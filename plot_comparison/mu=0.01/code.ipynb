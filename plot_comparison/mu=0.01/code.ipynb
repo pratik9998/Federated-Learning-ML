{
 "cells": [
  {
   "cell_type": "code",
   "execution_count": 1,
   "id": "fdf1b397",
   "metadata": {},
   "outputs": [
    {
     "data": {
      "application/vnd.plotly.v1+json": {
       "config": {
        "plotlyServerURL": "https://plot.ly"
       },
       "data": [
        {
         "hovertemplate": "Index: %{x}<br>Cost: %{y}<extra></extra>",
         "marker": {
          "size": 4
         },
         "mode": "lines+markers",
         "name": "Metric 1",
         "type": "scatter",
         "x": {
          "bdata": "AAECAwQFBgcICQoLDA0ODxAREhMUFRYXGBkaGxwdHh8gISIjJCUmJw==",
          "dtype": "i1"
         },
         "y": {
          "bdata": "AAAAYGdrAkAAAADgLWsCQAAAAIAMawJAAAAA4LNqAkAAAAAAPmoCQAAAAICRaAJAAAAA4B9lAkAAAADgMlsCQAAAACBmPgJAAAAAgIoEAkAAAACA0HQBQAAAAIBNegBAAQAA4OXy/T8AAAAAmTb6PwAAAMAU6/Y/AAAAgGxJ9D8BAAAAK2byPwAAAKC48PA/AAAA4Dyr7z////9/NF/uPwAAAIB/Q+w/AAAAIB6G6z8AAACAX4rpPwAAAKDnU+k/AAAAYOoD6D8AAADAgkLmPwAAAOAsB+Y/AAAAYCbs5D8AAADAWcrkPwAAAMDfzOQ/AAAAQNTT4j8AAACgbvPhPwAAAKAwQOE/AAAAwATM4D8AAACg2QngPwAAAAC6rN8/AAAAoLad3D8AAACAYm/cPwAAACA8I9o/////H+RE2T8=",
          "dtype": "f8"
         }
        },
        {
         "hovertemplate": "Index: %{x}<br>Cost: %{y}<extra></extra>",
         "marker": {
          "size": 4
         },
         "mode": "lines+markers",
         "name": "Metric 2",
         "type": "scatter",
         "x": {
          "bdata": "KCkqKywtLi8wMTIzNDU2Nzg5Ojs8PT4/QEFCQ0RFRkdISUpLTE1OTw==",
          "dtype": "i1"
         },
         "y": {
          "bdata": "AAAAALprAkAAAADgmWsCQAAAAGCFawJAAAAAgE5rAkAAAADAHmsCQAAAAECvaQJAAAAAwKVmAkAAAADAc14CQAAAAAAvQwJAAAAA4KkMAkAAAADgCXwBQAAAACD1hwBAAAAAgE8d/j8AAACg3YT6PwAAAAC1mfc/AAAAoNwz9T8AAADgvIfzPwAAACAgIvI/AAAA4BRC8T8BAACglDDwPwEAAIDHuO8/AAAAgJ207j8AAABgR6fuPwAAAGDJ8Ow/AAAAAFxm6z8AAADALPrrPwAAAODrdOs/AAAAIP0M6j8AAADA1QzpPwAAAOB0FOk/AAAAwBSA6D8AAAAgfQ/nPwAAAEC7cOc/AAAAoMYa5j8AAABA6wnmPwAAACBzYuU/AAAAAIs05D8AAAAgWF/jPwAAAIBrP+M/AAAA4INH4z8=",
          "dtype": "f8"
         }
        },
        {
         "hovertemplate": "Index: %{x}<br>Cost: %{y}<extra></extra>",
         "marker": {
          "size": 4
         },
         "mode": "lines+markers",
         "name": "Metric 3",
         "type": "scatter",
         "x": {
          "bdata": "UFFSU1RVVldYWVpbXF1eX2BhYmNkZWZnaGlqa2xtbm9wcXJzdHV2dw==",
          "dtype": "i1"
         },
         "y": {
          "bdata": "AAAAAJNrAkABAABgg2sCQAAAAOB0awJAAQAAgCZrAkAAAABAzmoCQAEAAKAPaQJA////3zFlAkAAAADA7FoCQAAAAKCfOQJAAAAAoNL2AUAAAAAAL08BQAAAAGBCMgBAAQAAABP7/D8AAACAk9v4PwAAAKDoJvU/AAAAYPhX8j8AAADg1zrwP////5+Tyu0/AAAAoD2S6z8AAACgbI3pPwAAAGCOSug/AAAAgKcs5z8AAADgEoLlPwAAACCre+U/AAAAAG6a4z8AAABgivPiPwAAAKAfvuM/AAAA4B+M4T8AAABAMlrhPwAAAODsnOA/AAAAwL084D////+flELfPwAAAMAtV94/AAAA4PR63j8AAAAgO77cPwAAACDXxtw/////P/Qx2j////+/wqrYPwAAACCITdg/AAAAIATs1z8=",
          "dtype": "f8"
         }
        },
        {
         "hovertemplate": "Index: %{x}<br>Cost: %{y}<extra></extra>",
         "marker": {
          "size": 4
         },
         "mode": "lines+markers",
         "name": "Metric 4",
         "type": "scatter",
         "x": {
          "bdata": "eAB5AHoAewB8AH0AfgB/AIAAgQCCAIMAhACFAIYAhwCIAIkAigCLAIwAjQCOAI8AkACRAJIAkwCUAJUAlgCXAJgAmQCaAJsAnACdAJ4AnwA=",
          "dtype": "i2"
         },
         "y": {
          "bdata": "AAAAAJprAkAAAAAgi2sCQAAAAKB1awJAAAAAoFBrAkAAAABA9WoCQAAAACBMaQJAAAAAIKRlAkAAAABAgVsCQAAAAAA1OwJAAAAAYGj5AUAAAABAL1QBQAAAAEBxPABAAAAAQKcS/T8AAADgMBX5PwAAAKAdpvU/AAAAgJYY8z8AAACg40XxPwAAAEAU3O8/AAAAIFC47T8AAABgp6HrPwAAAGAVFuo/AAAAIMD+6D8AAADgvqDnPwAAAABE9uY/AAAAIGue5T8AAABgB3HkPwAAAIBtfuQ/AAAAQHUE4z8AAACAG5LiPwAAAMDRLuI/AAAAwGlo4T8AAADA0TTgPwAAAKDoQeA/AAAAAIjL3j8AAABg4dHcP////5//adw/AAAA4HUT2j8AAADgbjfZPwAAAMC1KNg/////H1sM1z8=",
          "dtype": "f8"
         }
        },
        {
         "hovertemplate": "Index: %{x}<br>Cost: %{y}<extra></extra>",
         "marker": {
          "size": 4
         },
         "mode": "lines+markers",
         "name": "Metric 5",
         "type": "scatter",
         "x": {
          "bdata": "oAChAKIAowCkAKUApgCnAKgAqQCqAKsArACtAK4ArwCwALEAsgCzALQAtQC2ALcAuAC5ALoAuwC8AL0AvgC/AMAAwQDCAMMAxADFAMYAxwA=",
          "dtype": "i2"
         },
         "y": {
          "bdata": "AAAAoB1rAkAAAABAwWoCQP///1+ragJAAQAAYARqAkAAAACAXWkCQAAAAKB/ZwJAAAAAAEtjAkAAAADAo1gCQP///z+JOQJAAQAAwBD7AUAAAADAx2QBQAAAAIBcWABAAQAAQDWG/T8AAAAgMJD5PwAAACBpPfY/////H95c8z8BAAAgtmLxP////5/6QPA/AAAAwL6C7j8BAABgPdXtPwAAAECeKOw/AAAAQGeQ6z8AAACg00fpPwAAAKBfSuo/AAAAIIXi5z8AAABAk1HnPwAAAEAcNec/AAAAAE4X5j8AAACAF6bmPwAAAIA3WOY/AAAAALhh5D8AAADAd5TjPwAAAEA4IeI/AAAAQI7Y4j8AAAAAn6PiPwAAAMC6pOI/AAAAICeK4D8AAADAuUXfPwAAAMCqY94/AAAAwOle3j8=",
          "dtype": "f8"
         }
        }
       ],
       "layout": {
        "height": 600,
        "showlegend": true,
        "template": {
         "data": {
          "bar": [
           {
            "error_x": {
             "color": "#2a3f5f"
            },
            "error_y": {
             "color": "#2a3f5f"
            },
            "marker": {
             "line": {
              "color": "#E5ECF6",
              "width": 0.5
             },
             "pattern": {
              "fillmode": "overlay",
              "size": 10,
              "solidity": 0.2
             }
            },
            "type": "bar"
           }
          ],
          "barpolar": [
           {
            "marker": {
             "line": {
              "color": "#E5ECF6",
              "width": 0.5
             },
             "pattern": {
              "fillmode": "overlay",
              "size": 10,
              "solidity": 0.2
             }
            },
            "type": "barpolar"
           }
          ],
          "carpet": [
           {
            "aaxis": {
             "endlinecolor": "#2a3f5f",
             "gridcolor": "white",
             "linecolor": "white",
             "minorgridcolor": "white",
             "startlinecolor": "#2a3f5f"
            },
            "baxis": {
             "endlinecolor": "#2a3f5f",
             "gridcolor": "white",
             "linecolor": "white",
             "minorgridcolor": "white",
             "startlinecolor": "#2a3f5f"
            },
            "type": "carpet"
           }
          ],
          "choropleth": [
           {
            "colorbar": {
             "outlinewidth": 0,
             "ticks": ""
            },
            "type": "choropleth"
           }
          ],
          "contour": [
           {
            "colorbar": {
             "outlinewidth": 0,
             "ticks": ""
            },
            "colorscale": [
             [
              0,
              "#0d0887"
             ],
             [
              0.1111111111111111,
              "#46039f"
             ],
             [
              0.2222222222222222,
              "#7201a8"
             ],
             [
              0.3333333333333333,
              "#9c179e"
             ],
             [
              0.4444444444444444,
              "#bd3786"
             ],
             [
              0.5555555555555556,
              "#d8576b"
             ],
             [
              0.6666666666666666,
              "#ed7953"
             ],
             [
              0.7777777777777778,
              "#fb9f3a"
             ],
             [
              0.8888888888888888,
              "#fdca26"
             ],
             [
              1,
              "#f0f921"
             ]
            ],
            "type": "contour"
           }
          ],
          "contourcarpet": [
           {
            "colorbar": {
             "outlinewidth": 0,
             "ticks": ""
            },
            "type": "contourcarpet"
           }
          ],
          "heatmap": [
           {
            "colorbar": {
             "outlinewidth": 0,
             "ticks": ""
            },
            "colorscale": [
             [
              0,
              "#0d0887"
             ],
             [
              0.1111111111111111,
              "#46039f"
             ],
             [
              0.2222222222222222,
              "#7201a8"
             ],
             [
              0.3333333333333333,
              "#9c179e"
             ],
             [
              0.4444444444444444,
              "#bd3786"
             ],
             [
              0.5555555555555556,
              "#d8576b"
             ],
             [
              0.6666666666666666,
              "#ed7953"
             ],
             [
              0.7777777777777778,
              "#fb9f3a"
             ],
             [
              0.8888888888888888,
              "#fdca26"
             ],
             [
              1,
              "#f0f921"
             ]
            ],
            "type": "heatmap"
           }
          ],
          "histogram": [
           {
            "marker": {
             "pattern": {
              "fillmode": "overlay",
              "size": 10,
              "solidity": 0.2
             }
            },
            "type": "histogram"
           }
          ],
          "histogram2d": [
           {
            "colorbar": {
             "outlinewidth": 0,
             "ticks": ""
            },
            "colorscale": [
             [
              0,
              "#0d0887"
             ],
             [
              0.1111111111111111,
              "#46039f"
             ],
             [
              0.2222222222222222,
              "#7201a8"
             ],
             [
              0.3333333333333333,
              "#9c179e"
             ],
             [
              0.4444444444444444,
              "#bd3786"
             ],
             [
              0.5555555555555556,
              "#d8576b"
             ],
             [
              0.6666666666666666,
              "#ed7953"
             ],
             [
              0.7777777777777778,
              "#fb9f3a"
             ],
             [
              0.8888888888888888,
              "#fdca26"
             ],
             [
              1,
              "#f0f921"
             ]
            ],
            "type": "histogram2d"
           }
          ],
          "histogram2dcontour": [
           {
            "colorbar": {
             "outlinewidth": 0,
             "ticks": ""
            },
            "colorscale": [
             [
              0,
              "#0d0887"
             ],
             [
              0.1111111111111111,
              "#46039f"
             ],
             [
              0.2222222222222222,
              "#7201a8"
             ],
             [
              0.3333333333333333,
              "#9c179e"
             ],
             [
              0.4444444444444444,
              "#bd3786"
             ],
             [
              0.5555555555555556,
              "#d8576b"
             ],
             [
              0.6666666666666666,
              "#ed7953"
             ],
             [
              0.7777777777777778,
              "#fb9f3a"
             ],
             [
              0.8888888888888888,
              "#fdca26"
             ],
             [
              1,
              "#f0f921"
             ]
            ],
            "type": "histogram2dcontour"
           }
          ],
          "mesh3d": [
           {
            "colorbar": {
             "outlinewidth": 0,
             "ticks": ""
            },
            "type": "mesh3d"
           }
          ],
          "parcoords": [
           {
            "line": {
             "colorbar": {
              "outlinewidth": 0,
              "ticks": ""
             }
            },
            "type": "parcoords"
           }
          ],
          "pie": [
           {
            "automargin": true,
            "type": "pie"
           }
          ],
          "scatter": [
           {
            "fillpattern": {
             "fillmode": "overlay",
             "size": 10,
             "solidity": 0.2
            },
            "type": "scatter"
           }
          ],
          "scatter3d": [
           {
            "line": {
             "colorbar": {
              "outlinewidth": 0,
              "ticks": ""
             }
            },
            "marker": {
             "colorbar": {
              "outlinewidth": 0,
              "ticks": ""
             }
            },
            "type": "scatter3d"
           }
          ],
          "scattercarpet": [
           {
            "marker": {
             "colorbar": {
              "outlinewidth": 0,
              "ticks": ""
             }
            },
            "type": "scattercarpet"
           }
          ],
          "scattergeo": [
           {
            "marker": {
             "colorbar": {
              "outlinewidth": 0,
              "ticks": ""
             }
            },
            "type": "scattergeo"
           }
          ],
          "scattergl": [
           {
            "marker": {
             "colorbar": {
              "outlinewidth": 0,
              "ticks": ""
             }
            },
            "type": "scattergl"
           }
          ],
          "scattermap": [
           {
            "marker": {
             "colorbar": {
              "outlinewidth": 0,
              "ticks": ""
             }
            },
            "type": "scattermap"
           }
          ],
          "scattermapbox": [
           {
            "marker": {
             "colorbar": {
              "outlinewidth": 0,
              "ticks": ""
             }
            },
            "type": "scattermapbox"
           }
          ],
          "scatterpolar": [
           {
            "marker": {
             "colorbar": {
              "outlinewidth": 0,
              "ticks": ""
             }
            },
            "type": "scatterpolar"
           }
          ],
          "scatterpolargl": [
           {
            "marker": {
             "colorbar": {
              "outlinewidth": 0,
              "ticks": ""
             }
            },
            "type": "scatterpolargl"
           }
          ],
          "scatterternary": [
           {
            "marker": {
             "colorbar": {
              "outlinewidth": 0,
              "ticks": ""
             }
            },
            "type": "scatterternary"
           }
          ],
          "surface": [
           {
            "colorbar": {
             "outlinewidth": 0,
             "ticks": ""
            },
            "colorscale": [
             [
              0,
              "#0d0887"
             ],
             [
              0.1111111111111111,
              "#46039f"
             ],
             [
              0.2222222222222222,
              "#7201a8"
             ],
             [
              0.3333333333333333,
              "#9c179e"
             ],
             [
              0.4444444444444444,
              "#bd3786"
             ],
             [
              0.5555555555555556,
              "#d8576b"
             ],
             [
              0.6666666666666666,
              "#ed7953"
             ],
             [
              0.7777777777777778,
              "#fb9f3a"
             ],
             [
              0.8888888888888888,
              "#fdca26"
             ],
             [
              1,
              "#f0f921"
             ]
            ],
            "type": "surface"
           }
          ],
          "table": [
           {
            "cells": {
             "fill": {
              "color": "#EBF0F8"
             },
             "line": {
              "color": "white"
             }
            },
            "header": {
             "fill": {
              "color": "#C8D4E3"
             },
             "line": {
              "color": "white"
             }
            },
            "type": "table"
           }
          ]
         },
         "layout": {
          "annotationdefaults": {
           "arrowcolor": "#2a3f5f",
           "arrowhead": 0,
           "arrowwidth": 1
          },
          "autotypenumbers": "strict",
          "coloraxis": {
           "colorbar": {
            "outlinewidth": 0,
            "ticks": ""
           }
          },
          "colorscale": {
           "diverging": [
            [
             0,
             "#8e0152"
            ],
            [
             0.1,
             "#c51b7d"
            ],
            [
             0.2,
             "#de77ae"
            ],
            [
             0.3,
             "#f1b6da"
            ],
            [
             0.4,
             "#fde0ef"
            ],
            [
             0.5,
             "#f7f7f7"
            ],
            [
             0.6,
             "#e6f5d0"
            ],
            [
             0.7,
             "#b8e186"
            ],
            [
             0.8,
             "#7fbc41"
            ],
            [
             0.9,
             "#4d9221"
            ],
            [
             1,
             "#276419"
            ]
           ],
           "sequential": [
            [
             0,
             "#0d0887"
            ],
            [
             0.1111111111111111,
             "#46039f"
            ],
            [
             0.2222222222222222,
             "#7201a8"
            ],
            [
             0.3333333333333333,
             "#9c179e"
            ],
            [
             0.4444444444444444,
             "#bd3786"
            ],
            [
             0.5555555555555556,
             "#d8576b"
            ],
            [
             0.6666666666666666,
             "#ed7953"
            ],
            [
             0.7777777777777778,
             "#fb9f3a"
            ],
            [
             0.8888888888888888,
             "#fdca26"
            ],
            [
             1,
             "#f0f921"
            ]
           ],
           "sequentialminus": [
            [
             0,
             "#0d0887"
            ],
            [
             0.1111111111111111,
             "#46039f"
            ],
            [
             0.2222222222222222,
             "#7201a8"
            ],
            [
             0.3333333333333333,
             "#9c179e"
            ],
            [
             0.4444444444444444,
             "#bd3786"
            ],
            [
             0.5555555555555556,
             "#d8576b"
            ],
            [
             0.6666666666666666,
             "#ed7953"
            ],
            [
             0.7777777777777778,
             "#fb9f3a"
            ],
            [
             0.8888888888888888,
             "#fdca26"
            ],
            [
             1,
             "#f0f921"
            ]
           ]
          },
          "colorway": [
           "#636efa",
           "#EF553B",
           "#00cc96",
           "#ab63fa",
           "#FFA15A",
           "#19d3f3",
           "#FF6692",
           "#B6E880",
           "#FF97FF",
           "#FECB52"
          ],
          "font": {
           "color": "#2a3f5f"
          },
          "geo": {
           "bgcolor": "white",
           "lakecolor": "white",
           "landcolor": "#E5ECF6",
           "showlakes": true,
           "showland": true,
           "subunitcolor": "white"
          },
          "hoverlabel": {
           "align": "left"
          },
          "hovermode": "closest",
          "mapbox": {
           "style": "light"
          },
          "paper_bgcolor": "white",
          "plot_bgcolor": "#E5ECF6",
          "polar": {
           "angularaxis": {
            "gridcolor": "white",
            "linecolor": "white",
            "ticks": ""
           },
           "bgcolor": "#E5ECF6",
           "radialaxis": {
            "gridcolor": "white",
            "linecolor": "white",
            "ticks": ""
           }
          },
          "scene": {
           "xaxis": {
            "backgroundcolor": "#E5ECF6",
            "gridcolor": "white",
            "gridwidth": 2,
            "linecolor": "white",
            "showbackground": true,
            "ticks": "",
            "zerolinecolor": "white"
           },
           "yaxis": {
            "backgroundcolor": "#E5ECF6",
            "gridcolor": "white",
            "gridwidth": 2,
            "linecolor": "white",
            "showbackground": true,
            "ticks": "",
            "zerolinecolor": "white"
           },
           "zaxis": {
            "backgroundcolor": "#E5ECF6",
            "gridcolor": "white",
            "gridwidth": 2,
            "linecolor": "white",
            "showbackground": true,
            "ticks": "",
            "zerolinecolor": "white"
           }
          },
          "shapedefaults": {
           "line": {
            "color": "#2a3f5f"
           }
          },
          "ternary": {
           "aaxis": {
            "gridcolor": "white",
            "linecolor": "white",
            "ticks": ""
           },
           "baxis": {
            "gridcolor": "white",
            "linecolor": "white",
            "ticks": ""
           },
           "bgcolor": "#E5ECF6",
           "caxis": {
            "gridcolor": "white",
            "linecolor": "white",
            "ticks": ""
           }
          },
          "title": {
           "x": 0.05
          },
          "xaxis": {
           "automargin": true,
           "gridcolor": "white",
           "linecolor": "white",
           "ticks": "",
           "title": {
            "standoff": 15
           },
           "zerolinecolor": "white",
           "zerolinewidth": 2
          },
          "yaxis": {
           "automargin": true,
           "gridcolor": "white",
           "linecolor": "white",
           "ticks": "",
           "title": {
            "standoff": 15
           },
           "zerolinecolor": "white",
           "zerolinewidth": 2
          }
         }
        },
        "title": {
         "text": "Cost Comparison"
        },
        "width": 1000,
        "xaxis": {
         "tickvals": [
          0,
          199
         ],
         "title": {
          "text": "Index"
         }
        },
        "yaxis": {
         "title": {
          "text": "Cost"
         }
        }
       }
      }
     },
     "metadata": {},
     "output_type": "display_data"
    },
    {
     "data": {
      "application/vnd.plotly.v1+json": {
       "config": {
        "plotlyServerURL": "https://plot.ly"
       },
       "data": [
        {
         "hovertemplate": "Index: %{x}<br>Accuracy: %{y:.2f}<extra></extra>",
         "marker": {
          "size": 4
         },
         "mode": "lines+markers",
         "name": "Metric 1",
         "type": "scatter",
         "x": {
          "bdata": "AAECAwQFBgcICQoLDA0ODxAREhMUFRYXGBkaGxwdHh8gISIjJCUmJw==",
          "dtype": "i1"
         },
         "y": {
          "bdata": "/v//HrDbI0D9///lNQEqQAAAAK7EzSRAAAAArsTNJED+//+uDB0oQP7//x6w2yNAAAAArsTNJED+//9H7cgwQP7//4M/kTRAAAAAc7pURED///+XWbRIQAAAABrK/kdAAAAAIojJTUAAAADy1GBOQAAAACF/IlBAAAAAiSVuUEAAAADHRn1QQAAAAMQv51BAAAAAb1tvUUAAAACqZehRQAAAAP5vYVJAAAAApDe8UkAAAAC6ICZTQAAAAJCb6VJAAAAA+EE1U0AAAABg6IBTQAAAALTy+VNAAAAAXdHqU0AAAADedzZUQAAAAB+w21NAAAAArsTNVEAAAACBKPtUQAAAAG2MKFVAAAAAFmsZVUAAAABA8FVVQAAAAKutN1VAAAAAanWSVUAAAAATVINVQAAAAL5/C1ZAAAAA/KAaVkA=",
          "dtype": "f8"
         }
        },
        {
         "hovertemplate": "Index: %{x}<br>Accuracy: %{y:.2f}<extra></extra>",
         "marker": {
          "size": 4
         },
         "mode": "lines+markers",
         "name": "Metric 2",
         "type": "scatter",
         "x": {
          "bdata": "KCkqKywtLi8wMTIzNDU2Nzg5Ojs8PT4/QEFCQ0RFRkdISUpLTE1OTw==",
          "dtype": "i1"
         },
         "y": {
          "bdata": "/f//3P50I0D9///c/nQjQP///8CB0CRA////wIHQJED7//+1Y7IqQP3//9z+dCNA+///pAQsJkD+//8eZ1MyQP7//3SrXDRAAAAASglYQ0D///8o1ehDQAAAAHD0kUNAAAAAao0+SkAAAABWRAlLQAAAAMgFt0tAAAAAhp3YTEAAAABYfi9NQAAAABYWUU5AAAAAYuzETkAAAADzpztQQAAAAE6jj09AAAAA+pisT0AAAADNvAFQQAAAAO8NhFBAAAAAHkpAUUAAAABcGGdQQAAAADvk91BAAAAAraWlUUAAAACQC+5RQAAAAK2lpVFAAAAAZob8UUAAAABJ7ERSQAAAAIxxNlJAAAAARVKNUkAAAABOow9TQAAAAOGYLFNAAAAAdI5JU0AAAABOow9TQAAAAE6jD1NAAAAATqMPU0A=",
          "dtype": "f8"
         }
        },
        {
         "hovertemplate": "Index: %{x}<br>Accuracy: %{y:.2f}<extra></extra>",
         "marker": {
          "size": 4
         },
         "mode": "lines+markers",
         "name": "Metric 3",
         "type": "scatter",
         "x": {
          "bdata": "UFFSU1RVVldYWVpbXF1eX2BhYmNkZWZnaGlqa2xtbm9wcXJzdHV2dw==",
          "dtype": "i1"
         },
         "y": {
          "bdata": "/v//nU02JUD///8Ce8ckQPv//2eoWCRA+///Z6hYJED+//+PDz4oQP7//51NNiVA/v//gdFFK0D+//9nqFg0QP7//0Pk/jRAAAAA5tXpQ0AAAADuHVNJQP///yPEWUhAAAAA/YS4UEAAAAAaKpZRQAAAAEmxIFJAAAAAXeUnU0AAAACROKtSQAAAALdOX1NAAAAASwN7U0AAAACc+9tTQAAAADCw91NAAAAA3WQTVEAAAADLgmZUQAAAALdOX1NAAAAAFV10VEAAAABxGS9UQAAAAN1kE1RAAAAAwhGQVEAAAABNVdVUQAAAAAN7x1RAAAAA6CdEVUAAAADoJ0RVQAAAAN+2bVVAAAAAnk02VUAAAAAyAlJVQAAAAOgnRFVAAAAA1kWXVUAAAAAgIKVVQAAAABevzlVAAAAAavqyVUA=",
          "dtype": "f8"
         }
        },
        {
         "hovertemplate": "Index: %{x}<br>Accuracy: %{y:.2f}<extra></extra>",
         "marker": {
          "size": 4
         },
         "mode": "lines+markers",
         "name": "Metric 4",
         "type": "scatter",
         "x": {
          "bdata": "eAB5AHoAewB8AH0AfgB/AIAAgQCCAIMAhACFAIYAhwCIAIkAigCLAIwAjQCOAI8AkACRAJIAkwCUAJUAlgCXAJgAmQCaAJsAnACdAJ4AnwA=",
          "dtype": "i2"
         },
         "y": {
          "bdata": "////N47jJEAAAACR4zgmQP7//4XjOCJA/v//heM4IkD9///bOI4rQP///zeO4yRA+///w3EcJ0AAAABTVVUxQP///xHHcTRAAAAAP47jQkD///+Z4zhHQAAAAHQcx0ZAAAAAKMdxTEAAAADMOI5MQAAAAC6O405AAAAAyHGcUEAAAAB4HEdQQAAAADWOY1BAAAAA7jgOUUAAAACO47hRQAAAAC6OY1JAAAAABACAUkAAAACX47hSQAAAAOc4DlNAAAAA9P9/U0AAAAAax/FTQAAAAAUAAFRAAAAAL47jU0AAAACY4zhUQAAAAFVVVVRAAAAApaqqVEAAAAC2qipVQAAAADiO41RAAAAABgCAVUAAAACuqqpVQAAAAAYAgFVAAAAAfBxHVkAAAAAkx3FWQAAAAOE4jlZAAQAAzHGcVkA=",
          "dtype": "f8"
         }
        },
        {
         "hovertemplate": "Index: %{x}<br>Accuracy: %{y:.2f}<extra></extra>",
         "marker": {
          "size": 4
         },
         "mode": "lines+markers",
         "name": "Metric 5",
         "type": "scatter",
         "x": {
          "bdata": "oAChAKIAowCkAKUApgCnAKgAqQCqAKsArACtAK4ArwCwALEAsgCzALQAtQC2ALcAuAC5ALoAuwC8AL0AvgC/AMAAwQDCAMMAxADFAMYAxwA=",
          "dtype": "i2"
         },
         "y": {
          "bdata": "/P//iZYdJ0D////e3x4oQP///32omyVA////faibJUAAAAC4qaQsQPz//4mWHSdA/f//MykgKUD+///mHtgyQP///97fHjhA////IUTdRkAAAABiW39IQAAAAMzW30hAAAAABtjoT0AAAAC6EHVQQAAAACD8ZFBAAAAAPYzVUEAAAADuOZVQQAAAAEEcRlFAAAAAqW6GUUAAAABYtfVQQAAAAHVFZlFAAAAA2zBWUUAAAABko3dSQAAAAMAHNlFAAAAAMHpXUkAAAAD+t4dSQAAAAHs8J1JAAAAA5x7YUkAAAAAweldSQAAAAE0KyFJAAAAANnEYU0AAAADUFZlTQAAAANoMWlRAAAAAbiqpU0AAAAAIP7lTQAAAANQVmVNAAAAAKV+aVEAAAACs2vpUQAAAAOADG1VAAAAA4AMbVUA=",
          "dtype": "f8"
         }
        }
       ],
       "layout": {
        "height": 600,
        "showlegend": true,
        "template": {
         "data": {
          "bar": [
           {
            "error_x": {
             "color": "#2a3f5f"
            },
            "error_y": {
             "color": "#2a3f5f"
            },
            "marker": {
             "line": {
              "color": "#E5ECF6",
              "width": 0.5
             },
             "pattern": {
              "fillmode": "overlay",
              "size": 10,
              "solidity": 0.2
             }
            },
            "type": "bar"
           }
          ],
          "barpolar": [
           {
            "marker": {
             "line": {
              "color": "#E5ECF6",
              "width": 0.5
             },
             "pattern": {
              "fillmode": "overlay",
              "size": 10,
              "solidity": 0.2
             }
            },
            "type": "barpolar"
           }
          ],
          "carpet": [
           {
            "aaxis": {
             "endlinecolor": "#2a3f5f",
             "gridcolor": "white",
             "linecolor": "white",
             "minorgridcolor": "white",
             "startlinecolor": "#2a3f5f"
            },
            "baxis": {
             "endlinecolor": "#2a3f5f",
             "gridcolor": "white",
             "linecolor": "white",
             "minorgridcolor": "white",
             "startlinecolor": "#2a3f5f"
            },
            "type": "carpet"
           }
          ],
          "choropleth": [
           {
            "colorbar": {
             "outlinewidth": 0,
             "ticks": ""
            },
            "type": "choropleth"
           }
          ],
          "contour": [
           {
            "colorbar": {
             "outlinewidth": 0,
             "ticks": ""
            },
            "colorscale": [
             [
              0,
              "#0d0887"
             ],
             [
              0.1111111111111111,
              "#46039f"
             ],
             [
              0.2222222222222222,
              "#7201a8"
             ],
             [
              0.3333333333333333,
              "#9c179e"
             ],
             [
              0.4444444444444444,
              "#bd3786"
             ],
             [
              0.5555555555555556,
              "#d8576b"
             ],
             [
              0.6666666666666666,
              "#ed7953"
             ],
             [
              0.7777777777777778,
              "#fb9f3a"
             ],
             [
              0.8888888888888888,
              "#fdca26"
             ],
             [
              1,
              "#f0f921"
             ]
            ],
            "type": "contour"
           }
          ],
          "contourcarpet": [
           {
            "colorbar": {
             "outlinewidth": 0,
             "ticks": ""
            },
            "type": "contourcarpet"
           }
          ],
          "heatmap": [
           {
            "colorbar": {
             "outlinewidth": 0,
             "ticks": ""
            },
            "colorscale": [
             [
              0,
              "#0d0887"
             ],
             [
              0.1111111111111111,
              "#46039f"
             ],
             [
              0.2222222222222222,
              "#7201a8"
             ],
             [
              0.3333333333333333,
              "#9c179e"
             ],
             [
              0.4444444444444444,
              "#bd3786"
             ],
             [
              0.5555555555555556,
              "#d8576b"
             ],
             [
              0.6666666666666666,
              "#ed7953"
             ],
             [
              0.7777777777777778,
              "#fb9f3a"
             ],
             [
              0.8888888888888888,
              "#fdca26"
             ],
             [
              1,
              "#f0f921"
             ]
            ],
            "type": "heatmap"
           }
          ],
          "histogram": [
           {
            "marker": {
             "pattern": {
              "fillmode": "overlay",
              "size": 10,
              "solidity": 0.2
             }
            },
            "type": "histogram"
           }
          ],
          "histogram2d": [
           {
            "colorbar": {
             "outlinewidth": 0,
             "ticks": ""
            },
            "colorscale": [
             [
              0,
              "#0d0887"
             ],
             [
              0.1111111111111111,
              "#46039f"
             ],
             [
              0.2222222222222222,
              "#7201a8"
             ],
             [
              0.3333333333333333,
              "#9c179e"
             ],
             [
              0.4444444444444444,
              "#bd3786"
             ],
             [
              0.5555555555555556,
              "#d8576b"
             ],
             [
              0.6666666666666666,
              "#ed7953"
             ],
             [
              0.7777777777777778,
              "#fb9f3a"
             ],
             [
              0.8888888888888888,
              "#fdca26"
             ],
             [
              1,
              "#f0f921"
             ]
            ],
            "type": "histogram2d"
           }
          ],
          "histogram2dcontour": [
           {
            "colorbar": {
             "outlinewidth": 0,
             "ticks": ""
            },
            "colorscale": [
             [
              0,
              "#0d0887"
             ],
             [
              0.1111111111111111,
              "#46039f"
             ],
             [
              0.2222222222222222,
              "#7201a8"
             ],
             [
              0.3333333333333333,
              "#9c179e"
             ],
             [
              0.4444444444444444,
              "#bd3786"
             ],
             [
              0.5555555555555556,
              "#d8576b"
             ],
             [
              0.6666666666666666,
              "#ed7953"
             ],
             [
              0.7777777777777778,
              "#fb9f3a"
             ],
             [
              0.8888888888888888,
              "#fdca26"
             ],
             [
              1,
              "#f0f921"
             ]
            ],
            "type": "histogram2dcontour"
           }
          ],
          "mesh3d": [
           {
            "colorbar": {
             "outlinewidth": 0,
             "ticks": ""
            },
            "type": "mesh3d"
           }
          ],
          "parcoords": [
           {
            "line": {
             "colorbar": {
              "outlinewidth": 0,
              "ticks": ""
             }
            },
            "type": "parcoords"
           }
          ],
          "pie": [
           {
            "automargin": true,
            "type": "pie"
           }
          ],
          "scatter": [
           {
            "fillpattern": {
             "fillmode": "overlay",
             "size": 10,
             "solidity": 0.2
            },
            "type": "scatter"
           }
          ],
          "scatter3d": [
           {
            "line": {
             "colorbar": {
              "outlinewidth": 0,
              "ticks": ""
             }
            },
            "marker": {
             "colorbar": {
              "outlinewidth": 0,
              "ticks": ""
             }
            },
            "type": "scatter3d"
           }
          ],
          "scattercarpet": [
           {
            "marker": {
             "colorbar": {
              "outlinewidth": 0,
              "ticks": ""
             }
            },
            "type": "scattercarpet"
           }
          ],
          "scattergeo": [
           {
            "marker": {
             "colorbar": {
              "outlinewidth": 0,
              "ticks": ""
             }
            },
            "type": "scattergeo"
           }
          ],
          "scattergl": [
           {
            "marker": {
             "colorbar": {
              "outlinewidth": 0,
              "ticks": ""
             }
            },
            "type": "scattergl"
           }
          ],
          "scattermap": [
           {
            "marker": {
             "colorbar": {
              "outlinewidth": 0,
              "ticks": ""
             }
            },
            "type": "scattermap"
           }
          ],
          "scattermapbox": [
           {
            "marker": {
             "colorbar": {
              "outlinewidth": 0,
              "ticks": ""
             }
            },
            "type": "scattermapbox"
           }
          ],
          "scatterpolar": [
           {
            "marker": {
             "colorbar": {
              "outlinewidth": 0,
              "ticks": ""
             }
            },
            "type": "scatterpolar"
           }
          ],
          "scatterpolargl": [
           {
            "marker": {
             "colorbar": {
              "outlinewidth": 0,
              "ticks": ""
             }
            },
            "type": "scatterpolargl"
           }
          ],
          "scatterternary": [
           {
            "marker": {
             "colorbar": {
              "outlinewidth": 0,
              "ticks": ""
             }
            },
            "type": "scatterternary"
           }
          ],
          "surface": [
           {
            "colorbar": {
             "outlinewidth": 0,
             "ticks": ""
            },
            "colorscale": [
             [
              0,
              "#0d0887"
             ],
             [
              0.1111111111111111,
              "#46039f"
             ],
             [
              0.2222222222222222,
              "#7201a8"
             ],
             [
              0.3333333333333333,
              "#9c179e"
             ],
             [
              0.4444444444444444,
              "#bd3786"
             ],
             [
              0.5555555555555556,
              "#d8576b"
             ],
             [
              0.6666666666666666,
              "#ed7953"
             ],
             [
              0.7777777777777778,
              "#fb9f3a"
             ],
             [
              0.8888888888888888,
              "#fdca26"
             ],
             [
              1,
              "#f0f921"
             ]
            ],
            "type": "surface"
           }
          ],
          "table": [
           {
            "cells": {
             "fill": {
              "color": "#EBF0F8"
             },
             "line": {
              "color": "white"
             }
            },
            "header": {
             "fill": {
              "color": "#C8D4E3"
             },
             "line": {
              "color": "white"
             }
            },
            "type": "table"
           }
          ]
         },
         "layout": {
          "annotationdefaults": {
           "arrowcolor": "#2a3f5f",
           "arrowhead": 0,
           "arrowwidth": 1
          },
          "autotypenumbers": "strict",
          "coloraxis": {
           "colorbar": {
            "outlinewidth": 0,
            "ticks": ""
           }
          },
          "colorscale": {
           "diverging": [
            [
             0,
             "#8e0152"
            ],
            [
             0.1,
             "#c51b7d"
            ],
            [
             0.2,
             "#de77ae"
            ],
            [
             0.3,
             "#f1b6da"
            ],
            [
             0.4,
             "#fde0ef"
            ],
            [
             0.5,
             "#f7f7f7"
            ],
            [
             0.6,
             "#e6f5d0"
            ],
            [
             0.7,
             "#b8e186"
            ],
            [
             0.8,
             "#7fbc41"
            ],
            [
             0.9,
             "#4d9221"
            ],
            [
             1,
             "#276419"
            ]
           ],
           "sequential": [
            [
             0,
             "#0d0887"
            ],
            [
             0.1111111111111111,
             "#46039f"
            ],
            [
             0.2222222222222222,
             "#7201a8"
            ],
            [
             0.3333333333333333,
             "#9c179e"
            ],
            [
             0.4444444444444444,
             "#bd3786"
            ],
            [
             0.5555555555555556,
             "#d8576b"
            ],
            [
             0.6666666666666666,
             "#ed7953"
            ],
            [
             0.7777777777777778,
             "#fb9f3a"
            ],
            [
             0.8888888888888888,
             "#fdca26"
            ],
            [
             1,
             "#f0f921"
            ]
           ],
           "sequentialminus": [
            [
             0,
             "#0d0887"
            ],
            [
             0.1111111111111111,
             "#46039f"
            ],
            [
             0.2222222222222222,
             "#7201a8"
            ],
            [
             0.3333333333333333,
             "#9c179e"
            ],
            [
             0.4444444444444444,
             "#bd3786"
            ],
            [
             0.5555555555555556,
             "#d8576b"
            ],
            [
             0.6666666666666666,
             "#ed7953"
            ],
            [
             0.7777777777777778,
             "#fb9f3a"
            ],
            [
             0.8888888888888888,
             "#fdca26"
            ],
            [
             1,
             "#f0f921"
            ]
           ]
          },
          "colorway": [
           "#636efa",
           "#EF553B",
           "#00cc96",
           "#ab63fa",
           "#FFA15A",
           "#19d3f3",
           "#FF6692",
           "#B6E880",
           "#FF97FF",
           "#FECB52"
          ],
          "font": {
           "color": "#2a3f5f"
          },
          "geo": {
           "bgcolor": "white",
           "lakecolor": "white",
           "landcolor": "#E5ECF6",
           "showlakes": true,
           "showland": true,
           "subunitcolor": "white"
          },
          "hoverlabel": {
           "align": "left"
          },
          "hovermode": "closest",
          "mapbox": {
           "style": "light"
          },
          "paper_bgcolor": "white",
          "plot_bgcolor": "#E5ECF6",
          "polar": {
           "angularaxis": {
            "gridcolor": "white",
            "linecolor": "white",
            "ticks": ""
           },
           "bgcolor": "#E5ECF6",
           "radialaxis": {
            "gridcolor": "white",
            "linecolor": "white",
            "ticks": ""
           }
          },
          "scene": {
           "xaxis": {
            "backgroundcolor": "#E5ECF6",
            "gridcolor": "white",
            "gridwidth": 2,
            "linecolor": "white",
            "showbackground": true,
            "ticks": "",
            "zerolinecolor": "white"
           },
           "yaxis": {
            "backgroundcolor": "#E5ECF6",
            "gridcolor": "white",
            "gridwidth": 2,
            "linecolor": "white",
            "showbackground": true,
            "ticks": "",
            "zerolinecolor": "white"
           },
           "zaxis": {
            "backgroundcolor": "#E5ECF6",
            "gridcolor": "white",
            "gridwidth": 2,
            "linecolor": "white",
            "showbackground": true,
            "ticks": "",
            "zerolinecolor": "white"
           }
          },
          "shapedefaults": {
           "line": {
            "color": "#2a3f5f"
           }
          },
          "ternary": {
           "aaxis": {
            "gridcolor": "white",
            "linecolor": "white",
            "ticks": ""
           },
           "baxis": {
            "gridcolor": "white",
            "linecolor": "white",
            "ticks": ""
           },
           "bgcolor": "#E5ECF6",
           "caxis": {
            "gridcolor": "white",
            "linecolor": "white",
            "ticks": ""
           }
          },
          "title": {
           "x": 0.05
          },
          "xaxis": {
           "automargin": true,
           "gridcolor": "white",
           "linecolor": "white",
           "ticks": "",
           "title": {
            "standoff": 15
           },
           "zerolinecolor": "white",
           "zerolinewidth": 2
          },
          "yaxis": {
           "automargin": true,
           "gridcolor": "white",
           "linecolor": "white",
           "ticks": "",
           "title": {
            "standoff": 15
           },
           "zerolinecolor": "white",
           "zerolinewidth": 2
          }
         }
        },
        "title": {
         "text": "Accuracy Comparison"
        },
        "width": 1000,
        "xaxis": {
         "tickvals": [
          0,
          199
         ],
         "title": {
          "text": "Index"
         }
        },
        "yaxis": {
         "title": {
          "text": "Accuracy"
         }
        }
       }
      }
     },
     "metadata": {},
     "output_type": "display_data"
    },
    {
     "data": {
      "application/vnd.plotly.v1+json": {
       "config": {
        "plotlyServerURL": "https://plot.ly"
       },
       "data": [
        {
         "hovertemplate": "Index: %{x}<br>Delay: %{y:.2f}<extra></extra>",
         "marker": {
          "size": 4
         },
         "mode": "lines+markers",
         "name": "Metric 1",
         "type": "scatter",
         "x": {
          "bdata": "AAECAwQFBgcICQoLDA0ODxAREhMUFRYXGBkaGxwdHh8gISIjJCUmJw==",
          "dtype": "i1"
         },
         "y": {
          "bdata": "AAAA/Eg6NUAAAAAAweooQAAAAHBHyidAAAAAcGtCKUD///+P6UooQAAAANhMTyhAAAAAEI1AKEAAAACILkcpQAAAAEgGDSlAAAAAOEM7KkAAAAAw7VwoQAAAAMAmCClAAAAAuJxKKED///9HiXooQAAAABilKChAAAAAWDiOKEAAAAAQdsIoQAEAAHDhkChA////dyIPKkAAAADYlUssQAAAADjNGylAAQAAOLQxKEAAAADQgW0oQAEAAHiFnChAAAAA8IGzKEAAAABIbg0pQAAAAOia3StAAAAAxCJqMED///+XspotQAAAAIAQjytAAAAAoN9PLkAAAABgP0UvQAAAAHArgCtAAAAAGNUILED///8XEOcrQP///0+oLi1AAAAAYILFL0AAAACI4XoxQAAAABhT+zFAAAAABHxjMEA=",
          "dtype": "f8"
         }
        },
        {
         "hovertemplate": "Index: %{x}<br>Delay: %{y:.2f}<extra></extra>",
         "marker": {
          "size": 4
         },
         "mode": "lines+markers",
         "name": "Metric 2",
         "type": "scatter",
         "x": {
          "bdata": "KCkqKywtLi8wMTIzNDU2Nzg5Ojs8PT4/QEFCQ0RFRkdISUpLTE1OTw==",
          "dtype": "i1"
         },
         "y": {
          "bdata": "AAAA/Eg6NUABAAAgcqsoQAAAACB84SdAAAAA8AxMKUAAAADonocoQAAAAMjxMyhAAAAA8LupKEAAAAAgSWApQP///xfAYSlAAAAAgPr0KUAAAADI3T0oQAAAAIAymShAAAAAuDrYKED///+H76MoQAEAAAimMShAAAAAkPCdKEAAAAAwJN4oQP///68f+ShAAAAAmEyEKkAAAADAoAcsQAAAAIC44ChA////Ty35J0AAAACo66coQP////fPLChAAAAA8IGzKEAAAADg5wQpQP///89v7ytAAAAAoP+KMEAAAACAlYMtQAAAAFhniitAAAAAALB8LUAAAABoC3svQAEAAFj/2StAAAAAmFodLEAAAACYzUssQAAAAGAnhS1AAAAAwFwYMEAAAAC4GqcxQAAAAPy7DzJA////L5f2LUA=",
          "dtype": "f8"
         }
        },
        {
         "hovertemplate": "Index: %{x}<br>Delay: %{y:.2f}<extra></extra>",
         "marker": {
          "size": 4
         },
         "mode": "lines+markers",
         "name": "Metric 3",
         "type": "scatter",
         "x": {
          "bdata": "UFFSU1RVVldYWVpbXF1eX2BhYmNkZWZnaGlqa2xtbm9wcXJzdHV2dw==",
          "dtype": "i1"
         },
         "y": {
          "bdata": "AAAAAC6OMkAAAADIjF4pQAAAAIAovydA////5/ZIKUAAAADoZU8oQAAAALikjChA////5yxAKEAAAAAQEjUpQAEAAOA7HSlAAAAASIAyKkAAAADoEC8oQAAAAJCECSlAAAAAqJJyKEABAABgg2QoQAAAACjNOyhAAAAA4A9/KEAAAACAzqEoQAEAAHDhkChAAAAAWP38KUAAAABA0FUsQAAAADjNGylAAAAAiMwqKEAAAADANE4oQAAAABgfbChAAAAAUI+TKEAAAAD4qkcpQAAAAEgiAixAAAAAbDheMED///8/ZXktQP////c5jytAAAAAACYCLkAAAABAkDUvQAAAAMADOixAAAAAmOlULEABAAD4NzAsQP///9eZOC1AAAAADCEZMEAAAAColmoxQAAAAAQpFDJAAAAACCnXLkA=",
          "dtype": "f8"
         }
        },
        {
         "hovertemplate": "Index: %{x}<br>Delay: %{y:.2f}<extra></extra>",
         "marker": {
          "size": 4
         },
         "mode": "lines+markers",
         "name": "Metric 4",
         "type": "scatter",
         "x": {
          "bdata": "eAB5AHoAewB8AH0AfgB/AIAAgQCCAIMAhACFAIYAhwCIAIkAigCLAIwAjQCOAI8AkACRAJIAkwCUAJUAlgCXAJgAmQCaAJsAnACdAJ4AnwA=",
          "dtype": "i2"
         },
         "y": {
          "bdata": "AAAA4MffL0D////3rzwpQAAAAChy0ydAAAAAeE45KUAAAAB4pj0oQAEAAOAwNihAAAAAoHlZKEAAAAAQvkUpQAEAAKizaylAAAAAKG1PKkABAAB4sDwoQAAAAJCSaShA////bzPXKEAAAAAQulcoQAAAAFADLyhAAAAAQNd0KEAAAAAQeAYpQAAAAGj7ASlAAAAAcJ3tKUABAABAvRAsQAAAAAiuFilAAAAAELhqKEABAAAQ78AoQP///0cpoChAAAAA0FKfKEAAAADQZHopQAAAADjC5itAAAAAaMFpMED////3RHctQAAAAPgIfitA////N6aCLUAAAAC4VSQvQAEAAPi3zCtA////91/+K0ABAAD4NzAsQAAAAMDZNi1AAAAAcKTQL0AAAAD4nIUxQAAAAJw63jFAAAAARHYyMEA=",
          "dtype": "f8"
         }
        },
        {
         "hovertemplate": "Index: %{x}<br>Delay: %{y:.2f}<extra></extra>",
         "marker": {
          "size": 4
         },
         "mode": "lines+markers",
         "name": "Metric 5",
         "type": "scatter",
         "x": {
          "bdata": "oAChAKIAowCkAKUApgCnAKgAqQCqAKsArACtAK4ArwCwALEAsgCzALQAtQC2ALcAuAC5ALoAuwC8AL0AvgC/AMAAwQDCAMMAxADFAMYAxwA=",
          "dtype": "i2"
         },
         "y": {
          "bdata": "////B61hKUD////3z1spQAAAAGDMuidAAAAAiLRbKUAAAABY4FMoQAAAAKAuDChA////D3waKED///9HhPYoQAAAAGBwPilAAAAAYFwxKkABAABwBpMoQAEAAEDDtihA////J950KED///9fC/coQAAAAJBEkShAAQAAQG2wKEAAAAA40NQoQAAAAABKvihA////P9UQKkAAAADoJ3wsQAAAAMB49ShAAAAAyFBMKEAAAABwKgMpQAAAAMgRgShAAAAAoHXEKEAAAABQZYQpQAAAANjDPSxAAAAAfHNWMED////3X5QtQP///99dmytAAAAAILBgLEABAAAgLRMvQAAAACjYMSxAAAAAcN/4K0AAAAC4MPYrQP///3eyKC1AAAAAwHDXL0AAAAAA4qYxQAAAAJyM7DFAAAAAGCEmMEA=",
          "dtype": "f8"
         }
        }
       ],
       "layout": {
        "height": 600,
        "showlegend": true,
        "template": {
         "data": {
          "bar": [
           {
            "error_x": {
             "color": "#2a3f5f"
            },
            "error_y": {
             "color": "#2a3f5f"
            },
            "marker": {
             "line": {
              "color": "#E5ECF6",
              "width": 0.5
             },
             "pattern": {
              "fillmode": "overlay",
              "size": 10,
              "solidity": 0.2
             }
            },
            "type": "bar"
           }
          ],
          "barpolar": [
           {
            "marker": {
             "line": {
              "color": "#E5ECF6",
              "width": 0.5
             },
             "pattern": {
              "fillmode": "overlay",
              "size": 10,
              "solidity": 0.2
             }
            },
            "type": "barpolar"
           }
          ],
          "carpet": [
           {
            "aaxis": {
             "endlinecolor": "#2a3f5f",
             "gridcolor": "white",
             "linecolor": "white",
             "minorgridcolor": "white",
             "startlinecolor": "#2a3f5f"
            },
            "baxis": {
             "endlinecolor": "#2a3f5f",
             "gridcolor": "white",
             "linecolor": "white",
             "minorgridcolor": "white",
             "startlinecolor": "#2a3f5f"
            },
            "type": "carpet"
           }
          ],
          "choropleth": [
           {
            "colorbar": {
             "outlinewidth": 0,
             "ticks": ""
            },
            "type": "choropleth"
           }
          ],
          "contour": [
           {
            "colorbar": {
             "outlinewidth": 0,
             "ticks": ""
            },
            "colorscale": [
             [
              0,
              "#0d0887"
             ],
             [
              0.1111111111111111,
              "#46039f"
             ],
             [
              0.2222222222222222,
              "#7201a8"
             ],
             [
              0.3333333333333333,
              "#9c179e"
             ],
             [
              0.4444444444444444,
              "#bd3786"
             ],
             [
              0.5555555555555556,
              "#d8576b"
             ],
             [
              0.6666666666666666,
              "#ed7953"
             ],
             [
              0.7777777777777778,
              "#fb9f3a"
             ],
             [
              0.8888888888888888,
              "#fdca26"
             ],
             [
              1,
              "#f0f921"
             ]
            ],
            "type": "contour"
           }
          ],
          "contourcarpet": [
           {
            "colorbar": {
             "outlinewidth": 0,
             "ticks": ""
            },
            "type": "contourcarpet"
           }
          ],
          "heatmap": [
           {
            "colorbar": {
             "outlinewidth": 0,
             "ticks": ""
            },
            "colorscale": [
             [
              0,
              "#0d0887"
             ],
             [
              0.1111111111111111,
              "#46039f"
             ],
             [
              0.2222222222222222,
              "#7201a8"
             ],
             [
              0.3333333333333333,
              "#9c179e"
             ],
             [
              0.4444444444444444,
              "#bd3786"
             ],
             [
              0.5555555555555556,
              "#d8576b"
             ],
             [
              0.6666666666666666,
              "#ed7953"
             ],
             [
              0.7777777777777778,
              "#fb9f3a"
             ],
             [
              0.8888888888888888,
              "#fdca26"
             ],
             [
              1,
              "#f0f921"
             ]
            ],
            "type": "heatmap"
           }
          ],
          "histogram": [
           {
            "marker": {
             "pattern": {
              "fillmode": "overlay",
              "size": 10,
              "solidity": 0.2
             }
            },
            "type": "histogram"
           }
          ],
          "histogram2d": [
           {
            "colorbar": {
             "outlinewidth": 0,
             "ticks": ""
            },
            "colorscale": [
             [
              0,
              "#0d0887"
             ],
             [
              0.1111111111111111,
              "#46039f"
             ],
             [
              0.2222222222222222,
              "#7201a8"
             ],
             [
              0.3333333333333333,
              "#9c179e"
             ],
             [
              0.4444444444444444,
              "#bd3786"
             ],
             [
              0.5555555555555556,
              "#d8576b"
             ],
             [
              0.6666666666666666,
              "#ed7953"
             ],
             [
              0.7777777777777778,
              "#fb9f3a"
             ],
             [
              0.8888888888888888,
              "#fdca26"
             ],
             [
              1,
              "#f0f921"
             ]
            ],
            "type": "histogram2d"
           }
          ],
          "histogram2dcontour": [
           {
            "colorbar": {
             "outlinewidth": 0,
             "ticks": ""
            },
            "colorscale": [
             [
              0,
              "#0d0887"
             ],
             [
              0.1111111111111111,
              "#46039f"
             ],
             [
              0.2222222222222222,
              "#7201a8"
             ],
             [
              0.3333333333333333,
              "#9c179e"
             ],
             [
              0.4444444444444444,
              "#bd3786"
             ],
             [
              0.5555555555555556,
              "#d8576b"
             ],
             [
              0.6666666666666666,
              "#ed7953"
             ],
             [
              0.7777777777777778,
              "#fb9f3a"
             ],
             [
              0.8888888888888888,
              "#fdca26"
             ],
             [
              1,
              "#f0f921"
             ]
            ],
            "type": "histogram2dcontour"
           }
          ],
          "mesh3d": [
           {
            "colorbar": {
             "outlinewidth": 0,
             "ticks": ""
            },
            "type": "mesh3d"
           }
          ],
          "parcoords": [
           {
            "line": {
             "colorbar": {
              "outlinewidth": 0,
              "ticks": ""
             }
            },
            "type": "parcoords"
           }
          ],
          "pie": [
           {
            "automargin": true,
            "type": "pie"
           }
          ],
          "scatter": [
           {
            "fillpattern": {
             "fillmode": "overlay",
             "size": 10,
             "solidity": 0.2
            },
            "type": "scatter"
           }
          ],
          "scatter3d": [
           {
            "line": {
             "colorbar": {
              "outlinewidth": 0,
              "ticks": ""
             }
            },
            "marker": {
             "colorbar": {
              "outlinewidth": 0,
              "ticks": ""
             }
            },
            "type": "scatter3d"
           }
          ],
          "scattercarpet": [
           {
            "marker": {
             "colorbar": {
              "outlinewidth": 0,
              "ticks": ""
             }
            },
            "type": "scattercarpet"
           }
          ],
          "scattergeo": [
           {
            "marker": {
             "colorbar": {
              "outlinewidth": 0,
              "ticks": ""
             }
            },
            "type": "scattergeo"
           }
          ],
          "scattergl": [
           {
            "marker": {
             "colorbar": {
              "outlinewidth": 0,
              "ticks": ""
             }
            },
            "type": "scattergl"
           }
          ],
          "scattermap": [
           {
            "marker": {
             "colorbar": {
              "outlinewidth": 0,
              "ticks": ""
             }
            },
            "type": "scattermap"
           }
          ],
          "scattermapbox": [
           {
            "marker": {
             "colorbar": {
              "outlinewidth": 0,
              "ticks": ""
             }
            },
            "type": "scattermapbox"
           }
          ],
          "scatterpolar": [
           {
            "marker": {
             "colorbar": {
              "outlinewidth": 0,
              "ticks": ""
             }
            },
            "type": "scatterpolar"
           }
          ],
          "scatterpolargl": [
           {
            "marker": {
             "colorbar": {
              "outlinewidth": 0,
              "ticks": ""
             }
            },
            "type": "scatterpolargl"
           }
          ],
          "scatterternary": [
           {
            "marker": {
             "colorbar": {
              "outlinewidth": 0,
              "ticks": ""
             }
            },
            "type": "scatterternary"
           }
          ],
          "surface": [
           {
            "colorbar": {
             "outlinewidth": 0,
             "ticks": ""
            },
            "colorscale": [
             [
              0,
              "#0d0887"
             ],
             [
              0.1111111111111111,
              "#46039f"
             ],
             [
              0.2222222222222222,
              "#7201a8"
             ],
             [
              0.3333333333333333,
              "#9c179e"
             ],
             [
              0.4444444444444444,
              "#bd3786"
             ],
             [
              0.5555555555555556,
              "#d8576b"
             ],
             [
              0.6666666666666666,
              "#ed7953"
             ],
             [
              0.7777777777777778,
              "#fb9f3a"
             ],
             [
              0.8888888888888888,
              "#fdca26"
             ],
             [
              1,
              "#f0f921"
             ]
            ],
            "type": "surface"
           }
          ],
          "table": [
           {
            "cells": {
             "fill": {
              "color": "#EBF0F8"
             },
             "line": {
              "color": "white"
             }
            },
            "header": {
             "fill": {
              "color": "#C8D4E3"
             },
             "line": {
              "color": "white"
             }
            },
            "type": "table"
           }
          ]
         },
         "layout": {
          "annotationdefaults": {
           "arrowcolor": "#2a3f5f",
           "arrowhead": 0,
           "arrowwidth": 1
          },
          "autotypenumbers": "strict",
          "coloraxis": {
           "colorbar": {
            "outlinewidth": 0,
            "ticks": ""
           }
          },
          "colorscale": {
           "diverging": [
            [
             0,
             "#8e0152"
            ],
            [
             0.1,
             "#c51b7d"
            ],
            [
             0.2,
             "#de77ae"
            ],
            [
             0.3,
             "#f1b6da"
            ],
            [
             0.4,
             "#fde0ef"
            ],
            [
             0.5,
             "#f7f7f7"
            ],
            [
             0.6,
             "#e6f5d0"
            ],
            [
             0.7,
             "#b8e186"
            ],
            [
             0.8,
             "#7fbc41"
            ],
            [
             0.9,
             "#4d9221"
            ],
            [
             1,
             "#276419"
            ]
           ],
           "sequential": [
            [
             0,
             "#0d0887"
            ],
            [
             0.1111111111111111,
             "#46039f"
            ],
            [
             0.2222222222222222,
             "#7201a8"
            ],
            [
             0.3333333333333333,
             "#9c179e"
            ],
            [
             0.4444444444444444,
             "#bd3786"
            ],
            [
             0.5555555555555556,
             "#d8576b"
            ],
            [
             0.6666666666666666,
             "#ed7953"
            ],
            [
             0.7777777777777778,
             "#fb9f3a"
            ],
            [
             0.8888888888888888,
             "#fdca26"
            ],
            [
             1,
             "#f0f921"
            ]
           ],
           "sequentialminus": [
            [
             0,
             "#0d0887"
            ],
            [
             0.1111111111111111,
             "#46039f"
            ],
            [
             0.2222222222222222,
             "#7201a8"
            ],
            [
             0.3333333333333333,
             "#9c179e"
            ],
            [
             0.4444444444444444,
             "#bd3786"
            ],
            [
             0.5555555555555556,
             "#d8576b"
            ],
            [
             0.6666666666666666,
             "#ed7953"
            ],
            [
             0.7777777777777778,
             "#fb9f3a"
            ],
            [
             0.8888888888888888,
             "#fdca26"
            ],
            [
             1,
             "#f0f921"
            ]
           ]
          },
          "colorway": [
           "#636efa",
           "#EF553B",
           "#00cc96",
           "#ab63fa",
           "#FFA15A",
           "#19d3f3",
           "#FF6692",
           "#B6E880",
           "#FF97FF",
           "#FECB52"
          ],
          "font": {
           "color": "#2a3f5f"
          },
          "geo": {
           "bgcolor": "white",
           "lakecolor": "white",
           "landcolor": "#E5ECF6",
           "showlakes": true,
           "showland": true,
           "subunitcolor": "white"
          },
          "hoverlabel": {
           "align": "left"
          },
          "hovermode": "closest",
          "mapbox": {
           "style": "light"
          },
          "paper_bgcolor": "white",
          "plot_bgcolor": "#E5ECF6",
          "polar": {
           "angularaxis": {
            "gridcolor": "white",
            "linecolor": "white",
            "ticks": ""
           },
           "bgcolor": "#E5ECF6",
           "radialaxis": {
            "gridcolor": "white",
            "linecolor": "white",
            "ticks": ""
           }
          },
          "scene": {
           "xaxis": {
            "backgroundcolor": "#E5ECF6",
            "gridcolor": "white",
            "gridwidth": 2,
            "linecolor": "white",
            "showbackground": true,
            "ticks": "",
            "zerolinecolor": "white"
           },
           "yaxis": {
            "backgroundcolor": "#E5ECF6",
            "gridcolor": "white",
            "gridwidth": 2,
            "linecolor": "white",
            "showbackground": true,
            "ticks": "",
            "zerolinecolor": "white"
           },
           "zaxis": {
            "backgroundcolor": "#E5ECF6",
            "gridcolor": "white",
            "gridwidth": 2,
            "linecolor": "white",
            "showbackground": true,
            "ticks": "",
            "zerolinecolor": "white"
           }
          },
          "shapedefaults": {
           "line": {
            "color": "#2a3f5f"
           }
          },
          "ternary": {
           "aaxis": {
            "gridcolor": "white",
            "linecolor": "white",
            "ticks": ""
           },
           "baxis": {
            "gridcolor": "white",
            "linecolor": "white",
            "ticks": ""
           },
           "bgcolor": "#E5ECF6",
           "caxis": {
            "gridcolor": "white",
            "linecolor": "white",
            "ticks": ""
           }
          },
          "title": {
           "x": 0.05
          },
          "xaxis": {
           "automargin": true,
           "gridcolor": "white",
           "linecolor": "white",
           "ticks": "",
           "title": {
            "standoff": 15
           },
           "zerolinecolor": "white",
           "zerolinewidth": 2
          },
          "yaxis": {
           "automargin": true,
           "gridcolor": "white",
           "linecolor": "white",
           "ticks": "",
           "title": {
            "standoff": 15
           },
           "zerolinecolor": "white",
           "zerolinewidth": 2
          }
         }
        },
        "title": {
         "text": "Delay Comparison"
        },
        "width": 1000,
        "xaxis": {
         "tickvals": [
          0,
          199
         ],
         "title": {
          "text": "Index"
         }
        },
        "yaxis": {
         "title": {
          "text": "Delay (seconds)"
         }
        }
       }
      }
     },
     "metadata": {},
     "output_type": "display_data"
    }
   ],
   "source": [
    "import pandas as pd\n",
    "import plotly.graph_objects as go\n",
    "\n",
    "# List of file names\n",
    "file_names = [f'metric{i}.csv' for i in range(1, 6)]\n",
    "\n",
    "# Read and tag each file\n",
    "dataframes = []\n",
    "for i, file in enumerate(file_names, start=1):\n",
    "    df = pd.read_csv(file)\n",
    "    df['Source'] = f'Metric {i}'\n",
    "    dataframes.append(df)\n",
    "\n",
    "# Combine all data\n",
    "combined_df = pd.concat(dataframes, ignore_index=True)\n",
    "\n",
    "# **Cost Comparison** - Separate graph\n",
    "cost_fig = go.Figure()\n",
    "for label, group in combined_df.groupby('Source'):\n",
    "    cost_fig.add_trace(go.Scatter(\n",
    "        x=group.index,\n",
    "        y=group['cost'],\n",
    "        mode='lines+markers',\n",
    "        name=label,\n",
    "        marker=dict(size=4),  # Reduced marker size\n",
    "        hovertemplate='Index: %{x}<br>Cost: %{y}<extra></extra>'\n",
    "    ))\n",
    "\n",
    "cost_fig.update_xaxes(tickvals=[0, len(combined_df) - 1])\n",
    "cost_fig.update_layout(\n",
    "    title=\"Cost Comparison\",\n",
    "    xaxis_title=\"Index\",\n",
    "    yaxis_title=\"Cost\",\n",
    "    showlegend=True,\n",
    "    width=1000,   # Increased graph width\n",
    "    height=600    # Increased graph height\n",
    ")\n",
    "cost_fig.show()\n",
    "\n",
    "# **Accuracy Comparison** - Separate graph\n",
    "accuracy_fig = go.Figure()\n",
    "for label, group in combined_df.groupby('Source'):\n",
    "    scaled_accuracy = group['accuracy'] * 100  # Scale accuracy\n",
    "    accuracy_fig.add_trace(go.Scatter(\n",
    "        x=group.index,\n",
    "        y=scaled_accuracy,\n",
    "        mode='lines+markers',\n",
    "        name=label,\n",
    "        marker=dict(size=4),  # Reduced marker size\n",
    "        hovertemplate='Index: %{x}<br>Accuracy: %{y:.2f}<extra></extra>'\n",
    "    ))\n",
    "\n",
    "accuracy_fig.update_xaxes(tickvals=[0, len(combined_df) - 1])\n",
    "accuracy_fig.update_layout(\n",
    "    title=\"Accuracy Comparison\",\n",
    "    xaxis_title=\"Index\",\n",
    "    yaxis_title=\"Accuracy\",\n",
    "    showlegend=True,\n",
    "    width=1000,\n",
    "    height=600\n",
    ")\n",
    "accuracy_fig.show()\n",
    "\n",
    "# **Delay Comparison** - Separate graph\n",
    "delay_fig = go.Figure()\n",
    "for label, group in combined_df.groupby('Source'):\n",
    "    if 'delay' in group.columns:\n",
    "        delay_fig.add_trace(go.Scatter(\n",
    "            x=group.index,\n",
    "            y=group['delay'],\n",
    "            mode='lines+markers',\n",
    "            name=label,\n",
    "            marker=dict(size=4),  # Reduced marker size\n",
    "            hovertemplate='Index: %{x}<br>Delay: %{y:.2f}<extra></extra>'\n",
    "        ))\n",
    "\n",
    "delay_fig.update_xaxes(tickvals=[0, len(combined_df) - 1])\n",
    "delay_fig.update_layout(\n",
    "    title=\"Delay Comparison\",\n",
    "    xaxis_title=\"Index\",\n",
    "    yaxis_title=\"Delay (seconds)\",\n",
    "    showlegend=True,\n",
    "    width=1000,\n",
    "    height=600\n",
    ")\n",
    "delay_fig.show()\n"
   ]
  },
  {
   "cell_type": "code",
   "execution_count": null,
   "id": "6d9b844f",
   "metadata": {},
   "outputs": [
    {
     "name": "stdout",
     "output_type": "stream",
     "text": [
      "\n",
      "📋 Accuracy Comparison Table:\n",
      "    Metric1  Metric2  Metric3  Metric4  Metric5\n",
      "1      7.57     5.66     7.79     7.33     3.52\n",
      "2     11.35     9.50     9.74    11.11    11.31\n",
      "3     11.35     9.50     9.74    11.11    11.31\n",
      "4     11.35     9.50     9.74    11.11    11.31\n",
      "5     13.00     9.73    10.17    13.78    12.06\n",
      "6      9.93     9.73    10.61    10.44    11.56\n",
      "7     12.53    12.44    17.53    14.89    17.09\n",
      "8     20.57    20.81    21.43    18.22    22.11\n",
      "9     23.40    24.43    26.62    20.67    22.86\n",
      "10    33.10    36.88    36.58    32.22    32.16\n",
      "11    44.21    39.82    51.08    42.67    52.51\n",
      "12    50.35    48.19    61.26    46.67    62.31\n",
      "13    53.90    45.70    62.12    48.22    58.29\n",
      "14    60.28    60.41    65.80    59.56    61.56\n",
      "15    61.70    61.76    70.78    60.22    65.33\n",
      "16    66.19    61.76    75.11    66.67    67.84\n",
      "17    68.32    58.60    76.62    70.00    68.84\n",
      "18    68.09    63.80    76.19    70.22    66.83\n",
      "19    68.09    64.03    80.74    69.78    72.36\n",
      "20    73.29    66.52    79.22    76.44    74.12\n",
      "\n",
      "📋 Delay Comparison Table:\n",
      "    Metric1  Metric2  Metric3  Metric4  Metric5\n",
      "1     44.69    31.80    21.87    18.26    14.58\n",
      "2     17.67    17.82    17.83    17.86    17.81\n",
      "3     20.12    20.11    20.00    20.18    20.01\n",
      "4     29.20    29.38    29.28    29.26    29.38\n",
      "5     21.22    21.16    21.32    21.27    21.25\n",
      "6     15.44    15.50    15.48    15.40    15.52\n",
      "7     17.70    17.76    17.76    17.74    17.77\n",
      "8     15.79    15.81    15.76    15.81    15.71\n",
      "9     16.15    16.13    16.15    16.13    16.17\n",
      "10    18.82    18.86    18.84    18.88    18.88\n",
      "11    15.20    15.31    15.28    15.28    15.29\n",
      "12    14.78    14.99    14.97    14.97    14.99\n",
      "13    14.80    14.82    14.80    14.79    14.84\n",
      "14    13.19    13.20    13.20    13.20    13.20\n",
      "15    16.56    16.58    16.48    16.59    16.55\n",
      "16    18.89    18.90    18.87    18.87    18.90\n",
      "17    13.09    13.08    12.95    13.02    13.07\n",
      "18    13.43    13.67    13.42    13.65    13.45\n",
      "19    14.30    14.31    14.33    14.26    14.22\n",
      "20    16.03    16.03    16.02    16.01    16.04\n"
     ]
    }
   ],
   "source": [
    "import pandas as pd\n",
    "\n",
    "file_names = [f'metric{i}.csv' for i in range(1, 6)]\n",
    "\n",
    "accuracy_dict = {}\n",
    "delay_dict = {}\n",
    "\n",
    "for i, file in enumerate(file_names, start=1):\n",
    "    df = pd.read_csv(file)\n",
    "    accuracy_dict[f'Metric{i}'] = (df['accuracy'] * 100).round(2)  # multiply by 100 and round\n",
    "    delay_dict[f'Metric{i}'] = df['delay'].round(2)  # round delay\n",
    "\n",
    "# Create DataFrames for accuracy and delay\n",
    "accuracy_df = pd.DataFrame(accuracy_dict)\n",
    "delay_df = pd.DataFrame(delay_dict)\n",
    "\n",
    "# Start index from 1\n",
    "accuracy_df.index = accuracy_df.index + 1\n",
    "delay_df.index = delay_df.index + 1\n",
    "\n",
    "# Print Accuracy Table\n",
    "print(\"\\n📋 Accuracy Comparison Table:\")\n",
    "print(accuracy_df.to_string(index=True))\n",
    "\n",
    "# Print Delay Table\n",
    "print(\"\\n📋 Delay Comparison Table:\")\n",
    "print(delay_df.to_string(index=True))\n"
   ]
  }
 ],
 "metadata": {
  "kernelspec": {
   "display_name": "Python 3",
   "language": "python",
   "name": "python3"
  },
  "language_info": {
   "codemirror_mode": {
    "name": "ipython",
    "version": 3
   },
   "file_extension": ".py",
   "mimetype": "text/x-python",
   "name": "python",
   "nbconvert_exporter": "python",
   "pygments_lexer": "ipython3",
   "version": "3.12.9"
  }
 },
 "nbformat": 4,
 "nbformat_minor": 5
}
