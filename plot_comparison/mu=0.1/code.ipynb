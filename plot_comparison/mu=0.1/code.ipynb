{
 "cells": [
  {
   "cell_type": "code",
   "execution_count": 1,
   "id": "fdf1b397",
   "metadata": {},
   "outputs": [
    {
     "data": {
      "application/vnd.plotly.v1+json": {
       "config": {
        "plotlyServerURL": "https://plot.ly"
       },
       "data": [
        {
         "hovertemplate": "Index: %{x}<br>Cost: %{y}<extra></extra>",
         "marker": {
          "size": 4
         },
         "mode": "lines+markers",
         "name": "Metric 1",
         "type": "scatter",
         "x": {
          "bdata": "AAECAwQFBgcICQoLDA0ODxAREhMUFRYXGBkaGxwdHh8gISIjJCUmJw==",
          "dtype": "i1"
         },
         "y": {
          "bdata": "AAAAIHNrAkAAAAAgH2sCQAAAAOCwagJAAQAA4GBqAkABAAAA4mkCQAAAAEBqaQJAAAAAwPtoAkAAAADAiWgCQAAAACALaAJAAAAAYF5nAkAAAABAqGYCQAEAAEB4ZQJAAAAAYEdkAkD///9/FWICQAAAAADNXQJAAAAAAJ9VAkAAAADAWUcCQAAAACAvKwJAAAAAoK7rAUAAAABgi3YBQP///79rpQBAAAAAgNEh/z8AAACgtl78PwAAAOCfkfk/AAAAYDCu9j8BAABgBCv0PwAAAGBU0PE/AQAAoArO7z8AAAAAPrPsPwAAAKDvsOk/AAAA4Hd95z8AAABAC4PlPwAAAIAF++M/AAAAoCbF4j8AAACg5VbhPwAAAKBSI+E/AAAA4KIO4D8AAADghKPdPwAAAGAYX9s/////P/192j8=",
          "dtype": "f8"
         }
        },
        {
         "hovertemplate": "Index: %{x}<br>Cost: %{y}<extra></extra>",
         "marker": {
          "size": 4
         },
         "mode": "lines+markers",
         "name": "Metric 2",
         "type": "scatter",
         "x": {
          "bdata": "KCkqKywtLi8wMTIzNDU2Nzg5Ojs8PT4/QEFCQ0RFRkdISUpLTE1OTw==",
          "dtype": "i1"
         },
         "y": {
          "bdata": "////f5prAkAAAACgX2sCQAAAAKBHawJAAAAA4DxrAkAAAAAAE2sCQAAAAKD3agJA////v9JqAkAAAACgxGoCQP///x+DagJAAAAAIFZqAkAAAABA3GkCQAAAAAAFaQJAAAAAoLJnAkAAAACg8mUCQAAAAIDKYgJAAAAAQHRbAkABAAAgck0CQAAAAICuMAJAAQAAoE/zAUAAAAAg+n4BQAAAAOAEtABAAAAAAElI/z8AAADAe8L8PwAAAEB+Tvo/AAAAYNui9z8AAAAghon1PwEAACCxlvM/AAAAAMTS8T8BAACASKLwPwEAAADg8+4//////2qj7T8AAADAVInsPwAAACB/s+s/AAAAYHX86T8AAABAVYnpPwAAAGCZlOg/AAAAoPBr5z8AAABArkrmPwAAAKCmAuY/AAAAgNFz5T8=",
          "dtype": "f8"
         }
        },
        {
         "hovertemplate": "Index: %{x}<br>Cost: %{y}<extra></extra>",
         "marker": {
          "size": 4
         },
         "mode": "lines+markers",
         "name": "Metric 3",
         "type": "scatter",
         "x": {
          "bdata": "UFFSU1RVVldYWVpbXF1eX2BhYmNkZWZnaGlqa2xtbm9wcXJzdHV2dw==",
          "dtype": "i1"
         },
         "y": {
          "bdata": "AAAAgIxrAkAAAABgbmsCQP///z9JawJAAAAAACBrAkAAAADg6WoCQAAAAGCzagJAAAAAgIJqAkAAAACAUWoCQAEAAED4aQJAAAAAIHBpAkAAAAAA32gCQAAAAMDqZwJAAAAAgMFmAkAAAAAAxmQCQAAAAGAUYQJAAAAAIPpYAkAAAAAgW0oCQAAAAKDCLAJAAAAA4KPqAUAAAAAAmnABQAAAAMBnlQBA/////1zz/j8AAADAvyj8PwAAAADeU/k/AAAAwJ1u9j8AAACALtHzPwAAAEDodvE/AAAAYGPh7j8AAAAg7XLrPwAAAMBQdOk/AAAAwN8N5j8AAABAQl7kPwAAAACiouI/AAAAAGKO4T8AAABAOYHgPwAAACB/2t4/AAAAIH3G3D/////fIj/bP////79T19k/AAAAYAoJ2D8=",
          "dtype": "f8"
         }
        },
        {
         "hovertemplate": "Index: %{x}<br>Cost: %{y}<extra></extra>",
         "marker": {
          "size": 4
         },
         "mode": "lines+markers",
         "name": "Metric 4",
         "type": "scatter",
         "x": {
          "bdata": "eAB5AHoAewB8AH0AfgB/AIAAgQCCAIMAhACFAIYAhwCIAIkAigCLAIwAjQCOAI8AkACRAJIAkwCUAJUAlgCXAJgAmQCaAJsAnACdAJ4AnwA=",
          "dtype": "i2"
         },
         "y": {
          "bdata": "AAAAgIdrAkAAAAAAX2sCQAAAAOAuawJAAAAAgBdrAkABAACA5moCQAAAAAClagJAAAAAYIFqAkAAAAAggmoCQAAAAOA6agJAAAAAwNxpAkAAAACgRmkCQAAAAGBAaAJAAAAAgO9mAkAAAAAg72QCQAAAAOBEYQJAAQAAoEpZAkAAAACgJkoCQAAAAEAIKwJAAAAAQBvoAUAAAAAA3GwBQAAAAMDhkwBAAAAAALwJ/z8AAADgVGr8PwAAAMBK1fk/AQAAIHYD9z8AAAAg5Kj0PwAAAAAnT/I/AAAAYCd28D8BAAAg3KjtPwAAAICR4+o/AAAAIJGP6D8AAABARbvmPwAAAEDiL+U/AAAAgJW34z8AAAAglvThPwAAAGAUjOE/AAAAwHqp4D////9/dCzePwAAAGBov9w/////35Sl3D8=",
          "dtype": "f8"
         }
        },
        {
         "hovertemplate": "Index: %{x}<br>Cost: %{y}<extra></extra>",
         "marker": {
          "size": 4
         },
         "mode": "lines+markers",
         "name": "Metric 5",
         "type": "scatter",
         "x": {
          "bdata": "oAChAKIAowCkAKUApgCnAKgAqQCqAKsArACtAK4ArwCwALEAsgCzALQAtQC2ALcAuAC5ALoAuwC8AL0AvgC/AMAAwQDCAMMAxADFAMYAxwA=",
          "dtype": "i2"
         },
         "y": {
          "bdata": "AAAAQGZrAkAAAACAAWsCQAAAAIBvagJAAAAAwOlpAkAAAACAOGkCQAAAAOCYaAJAAAAAQAZoAkAAAABAPGcCQAAAACCIZgJAAQAAYHllAkAAAADgrWQCQAEAAKCPYwJAAAAAQL5iAkAAAADgfmACQAAAAKDWWwJAAAAAwKpTAkAAAAAAREYCQAAAAADBLAJAAAAAgIjvAUAAAADgXYQBQAAAACApwQBAAAAA4D6p/z8AAAAgkin9PwAAACBrVfo/AAAAIMHL9z8AAADAiyr1PwEAAMAbO/M/AAAA4HTw8D8AAACglhfvP////19Ah+0/AAAAYCsz6j8AAAAAYDboPwAAAOBCs+Y/AAAAAOqT5T8AAACgRizlPwAAAIDieuM/AAAA4DBX4j8AAADArD/iPwAAAAAUAeE/AAAAYJmd3z8=",
          "dtype": "f8"
         }
        }
       ],
       "layout": {
        "height": 600,
        "showlegend": true,
        "template": {
         "data": {
          "bar": [
           {
            "error_x": {
             "color": "#2a3f5f"
            },
            "error_y": {
             "color": "#2a3f5f"
            },
            "marker": {
             "line": {
              "color": "#E5ECF6",
              "width": 0.5
             },
             "pattern": {
              "fillmode": "overlay",
              "size": 10,
              "solidity": 0.2
             }
            },
            "type": "bar"
           }
          ],
          "barpolar": [
           {
            "marker": {
             "line": {
              "color": "#E5ECF6",
              "width": 0.5
             },
             "pattern": {
              "fillmode": "overlay",
              "size": 10,
              "solidity": 0.2
             }
            },
            "type": "barpolar"
           }
          ],
          "carpet": [
           {
            "aaxis": {
             "endlinecolor": "#2a3f5f",
             "gridcolor": "white",
             "linecolor": "white",
             "minorgridcolor": "white",
             "startlinecolor": "#2a3f5f"
            },
            "baxis": {
             "endlinecolor": "#2a3f5f",
             "gridcolor": "white",
             "linecolor": "white",
             "minorgridcolor": "white",
             "startlinecolor": "#2a3f5f"
            },
            "type": "carpet"
           }
          ],
          "choropleth": [
           {
            "colorbar": {
             "outlinewidth": 0,
             "ticks": ""
            },
            "type": "choropleth"
           }
          ],
          "contour": [
           {
            "colorbar": {
             "outlinewidth": 0,
             "ticks": ""
            },
            "colorscale": [
             [
              0,
              "#0d0887"
             ],
             [
              0.1111111111111111,
              "#46039f"
             ],
             [
              0.2222222222222222,
              "#7201a8"
             ],
             [
              0.3333333333333333,
              "#9c179e"
             ],
             [
              0.4444444444444444,
              "#bd3786"
             ],
             [
              0.5555555555555556,
              "#d8576b"
             ],
             [
              0.6666666666666666,
              "#ed7953"
             ],
             [
              0.7777777777777778,
              "#fb9f3a"
             ],
             [
              0.8888888888888888,
              "#fdca26"
             ],
             [
              1,
              "#f0f921"
             ]
            ],
            "type": "contour"
           }
          ],
          "contourcarpet": [
           {
            "colorbar": {
             "outlinewidth": 0,
             "ticks": ""
            },
            "type": "contourcarpet"
           }
          ],
          "heatmap": [
           {
            "colorbar": {
             "outlinewidth": 0,
             "ticks": ""
            },
            "colorscale": [
             [
              0,
              "#0d0887"
             ],
             [
              0.1111111111111111,
              "#46039f"
             ],
             [
              0.2222222222222222,
              "#7201a8"
             ],
             [
              0.3333333333333333,
              "#9c179e"
             ],
             [
              0.4444444444444444,
              "#bd3786"
             ],
             [
              0.5555555555555556,
              "#d8576b"
             ],
             [
              0.6666666666666666,
              "#ed7953"
             ],
             [
              0.7777777777777778,
              "#fb9f3a"
             ],
             [
              0.8888888888888888,
              "#fdca26"
             ],
             [
              1,
              "#f0f921"
             ]
            ],
            "type": "heatmap"
           }
          ],
          "histogram": [
           {
            "marker": {
             "pattern": {
              "fillmode": "overlay",
              "size": 10,
              "solidity": 0.2
             }
            },
            "type": "histogram"
           }
          ],
          "histogram2d": [
           {
            "colorbar": {
             "outlinewidth": 0,
             "ticks": ""
            },
            "colorscale": [
             [
              0,
              "#0d0887"
             ],
             [
              0.1111111111111111,
              "#46039f"
             ],
             [
              0.2222222222222222,
              "#7201a8"
             ],
             [
              0.3333333333333333,
              "#9c179e"
             ],
             [
              0.4444444444444444,
              "#bd3786"
             ],
             [
              0.5555555555555556,
              "#d8576b"
             ],
             [
              0.6666666666666666,
              "#ed7953"
             ],
             [
              0.7777777777777778,
              "#fb9f3a"
             ],
             [
              0.8888888888888888,
              "#fdca26"
             ],
             [
              1,
              "#f0f921"
             ]
            ],
            "type": "histogram2d"
           }
          ],
          "histogram2dcontour": [
           {
            "colorbar": {
             "outlinewidth": 0,
             "ticks": ""
            },
            "colorscale": [
             [
              0,
              "#0d0887"
             ],
             [
              0.1111111111111111,
              "#46039f"
             ],
             [
              0.2222222222222222,
              "#7201a8"
             ],
             [
              0.3333333333333333,
              "#9c179e"
             ],
             [
              0.4444444444444444,
              "#bd3786"
             ],
             [
              0.5555555555555556,
              "#d8576b"
             ],
             [
              0.6666666666666666,
              "#ed7953"
             ],
             [
              0.7777777777777778,
              "#fb9f3a"
             ],
             [
              0.8888888888888888,
              "#fdca26"
             ],
             [
              1,
              "#f0f921"
             ]
            ],
            "type": "histogram2dcontour"
           }
          ],
          "mesh3d": [
           {
            "colorbar": {
             "outlinewidth": 0,
             "ticks": ""
            },
            "type": "mesh3d"
           }
          ],
          "parcoords": [
           {
            "line": {
             "colorbar": {
              "outlinewidth": 0,
              "ticks": ""
             }
            },
            "type": "parcoords"
           }
          ],
          "pie": [
           {
            "automargin": true,
            "type": "pie"
           }
          ],
          "scatter": [
           {
            "fillpattern": {
             "fillmode": "overlay",
             "size": 10,
             "solidity": 0.2
            },
            "type": "scatter"
           }
          ],
          "scatter3d": [
           {
            "line": {
             "colorbar": {
              "outlinewidth": 0,
              "ticks": ""
             }
            },
            "marker": {
             "colorbar": {
              "outlinewidth": 0,
              "ticks": ""
             }
            },
            "type": "scatter3d"
           }
          ],
          "scattercarpet": [
           {
            "marker": {
             "colorbar": {
              "outlinewidth": 0,
              "ticks": ""
             }
            },
            "type": "scattercarpet"
           }
          ],
          "scattergeo": [
           {
            "marker": {
             "colorbar": {
              "outlinewidth": 0,
              "ticks": ""
             }
            },
            "type": "scattergeo"
           }
          ],
          "scattergl": [
           {
            "marker": {
             "colorbar": {
              "outlinewidth": 0,
              "ticks": ""
             }
            },
            "type": "scattergl"
           }
          ],
          "scattermap": [
           {
            "marker": {
             "colorbar": {
              "outlinewidth": 0,
              "ticks": ""
             }
            },
            "type": "scattermap"
           }
          ],
          "scattermapbox": [
           {
            "marker": {
             "colorbar": {
              "outlinewidth": 0,
              "ticks": ""
             }
            },
            "type": "scattermapbox"
           }
          ],
          "scatterpolar": [
           {
            "marker": {
             "colorbar": {
              "outlinewidth": 0,
              "ticks": ""
             }
            },
            "type": "scatterpolar"
           }
          ],
          "scatterpolargl": [
           {
            "marker": {
             "colorbar": {
              "outlinewidth": 0,
              "ticks": ""
             }
            },
            "type": "scatterpolargl"
           }
          ],
          "scatterternary": [
           {
            "marker": {
             "colorbar": {
              "outlinewidth": 0,
              "ticks": ""
             }
            },
            "type": "scatterternary"
           }
          ],
          "surface": [
           {
            "colorbar": {
             "outlinewidth": 0,
             "ticks": ""
            },
            "colorscale": [
             [
              0,
              "#0d0887"
             ],
             [
              0.1111111111111111,
              "#46039f"
             ],
             [
              0.2222222222222222,
              "#7201a8"
             ],
             [
              0.3333333333333333,
              "#9c179e"
             ],
             [
              0.4444444444444444,
              "#bd3786"
             ],
             [
              0.5555555555555556,
              "#d8576b"
             ],
             [
              0.6666666666666666,
              "#ed7953"
             ],
             [
              0.7777777777777778,
              "#fb9f3a"
             ],
             [
              0.8888888888888888,
              "#fdca26"
             ],
             [
              1,
              "#f0f921"
             ]
            ],
            "type": "surface"
           }
          ],
          "table": [
           {
            "cells": {
             "fill": {
              "color": "#EBF0F8"
             },
             "line": {
              "color": "white"
             }
            },
            "header": {
             "fill": {
              "color": "#C8D4E3"
             },
             "line": {
              "color": "white"
             }
            },
            "type": "table"
           }
          ]
         },
         "layout": {
          "annotationdefaults": {
           "arrowcolor": "#2a3f5f",
           "arrowhead": 0,
           "arrowwidth": 1
          },
          "autotypenumbers": "strict",
          "coloraxis": {
           "colorbar": {
            "outlinewidth": 0,
            "ticks": ""
           }
          },
          "colorscale": {
           "diverging": [
            [
             0,
             "#8e0152"
            ],
            [
             0.1,
             "#c51b7d"
            ],
            [
             0.2,
             "#de77ae"
            ],
            [
             0.3,
             "#f1b6da"
            ],
            [
             0.4,
             "#fde0ef"
            ],
            [
             0.5,
             "#f7f7f7"
            ],
            [
             0.6,
             "#e6f5d0"
            ],
            [
             0.7,
             "#b8e186"
            ],
            [
             0.8,
             "#7fbc41"
            ],
            [
             0.9,
             "#4d9221"
            ],
            [
             1,
             "#276419"
            ]
           ],
           "sequential": [
            [
             0,
             "#0d0887"
            ],
            [
             0.1111111111111111,
             "#46039f"
            ],
            [
             0.2222222222222222,
             "#7201a8"
            ],
            [
             0.3333333333333333,
             "#9c179e"
            ],
            [
             0.4444444444444444,
             "#bd3786"
            ],
            [
             0.5555555555555556,
             "#d8576b"
            ],
            [
             0.6666666666666666,
             "#ed7953"
            ],
            [
             0.7777777777777778,
             "#fb9f3a"
            ],
            [
             0.8888888888888888,
             "#fdca26"
            ],
            [
             1,
             "#f0f921"
            ]
           ],
           "sequentialminus": [
            [
             0,
             "#0d0887"
            ],
            [
             0.1111111111111111,
             "#46039f"
            ],
            [
             0.2222222222222222,
             "#7201a8"
            ],
            [
             0.3333333333333333,
             "#9c179e"
            ],
            [
             0.4444444444444444,
             "#bd3786"
            ],
            [
             0.5555555555555556,
             "#d8576b"
            ],
            [
             0.6666666666666666,
             "#ed7953"
            ],
            [
             0.7777777777777778,
             "#fb9f3a"
            ],
            [
             0.8888888888888888,
             "#fdca26"
            ],
            [
             1,
             "#f0f921"
            ]
           ]
          },
          "colorway": [
           "#636efa",
           "#EF553B",
           "#00cc96",
           "#ab63fa",
           "#FFA15A",
           "#19d3f3",
           "#FF6692",
           "#B6E880",
           "#FF97FF",
           "#FECB52"
          ],
          "font": {
           "color": "#2a3f5f"
          },
          "geo": {
           "bgcolor": "white",
           "lakecolor": "white",
           "landcolor": "#E5ECF6",
           "showlakes": true,
           "showland": true,
           "subunitcolor": "white"
          },
          "hoverlabel": {
           "align": "left"
          },
          "hovermode": "closest",
          "mapbox": {
           "style": "light"
          },
          "paper_bgcolor": "white",
          "plot_bgcolor": "#E5ECF6",
          "polar": {
           "angularaxis": {
            "gridcolor": "white",
            "linecolor": "white",
            "ticks": ""
           },
           "bgcolor": "#E5ECF6",
           "radialaxis": {
            "gridcolor": "white",
            "linecolor": "white",
            "ticks": ""
           }
          },
          "scene": {
           "xaxis": {
            "backgroundcolor": "#E5ECF6",
            "gridcolor": "white",
            "gridwidth": 2,
            "linecolor": "white",
            "showbackground": true,
            "ticks": "",
            "zerolinecolor": "white"
           },
           "yaxis": {
            "backgroundcolor": "#E5ECF6",
            "gridcolor": "white",
            "gridwidth": 2,
            "linecolor": "white",
            "showbackground": true,
            "ticks": "",
            "zerolinecolor": "white"
           },
           "zaxis": {
            "backgroundcolor": "#E5ECF6",
            "gridcolor": "white",
            "gridwidth": 2,
            "linecolor": "white",
            "showbackground": true,
            "ticks": "",
            "zerolinecolor": "white"
           }
          },
          "shapedefaults": {
           "line": {
            "color": "#2a3f5f"
           }
          },
          "ternary": {
           "aaxis": {
            "gridcolor": "white",
            "linecolor": "white",
            "ticks": ""
           },
           "baxis": {
            "gridcolor": "white",
            "linecolor": "white",
            "ticks": ""
           },
           "bgcolor": "#E5ECF6",
           "caxis": {
            "gridcolor": "white",
            "linecolor": "white",
            "ticks": ""
           }
          },
          "title": {
           "x": 0.05
          },
          "xaxis": {
           "automargin": true,
           "gridcolor": "white",
           "linecolor": "white",
           "ticks": "",
           "title": {
            "standoff": 15
           },
           "zerolinecolor": "white",
           "zerolinewidth": 2
          },
          "yaxis": {
           "automargin": true,
           "gridcolor": "white",
           "linecolor": "white",
           "ticks": "",
           "title": {
            "standoff": 15
           },
           "zerolinecolor": "white",
           "zerolinewidth": 2
          }
         }
        },
        "title": {
         "text": "Cost Comparison"
        },
        "width": 1000,
        "xaxis": {
         "tickvals": [
          0,
          199
         ],
         "title": {
          "text": "Index"
         }
        },
        "yaxis": {
         "title": {
          "text": "Cost"
         }
        }
       }
      }
     },
     "metadata": {},
     "output_type": "display_data"
    },
    {
     "data": {
      "application/vnd.plotly.v1+json": {
       "config": {
        "plotlyServerURL": "https://plot.ly"
       },
       "data": [
        {
         "hovertemplate": "Index: %{x}<br>Accuracy: %{y:.2f}<extra></extra>",
         "marker": {
          "size": 4
         },
         "mode": "lines+markers",
         "name": "Metric 1",
         "type": "scatter",
         "x": {
          "bdata": "AAECAwQFBgcICQoLDA0ODxAREhMUFRYXGBkaGxwdHh8gISIjJCUmJw==",
          "dtype": "i1"
         },
         "y": {
          "bdata": "/v//Ac9GJUD+//8esNsjQP3//69UbCtA/P//crpUJED+//8esNsjQP7//x6w2yNA/v//HrDbI0AAAACuxM0kQPv//819UC1A/v//HrDbI0D+//8esNsjQP7//x6w2yNA/v//HrDbI0D+//8esNsjQP3//+U1ASpA/v//j5vpMkAAAAAepzQ/QP///1/ogENAAAAAs6qqQEAAAAD04k9AQP///6ZOUkJAAAAAbYwoRUAAAAAEX+VLQAAAAPHLuVBAAAAA0dOOUkAAAACTsn9SQAAAAJCb6VJAAAAAjYRTU0AAAAD1Kp9TQAAAAHO6VFRAAAAAsdtjVEAAAAAF5txUQAAAAK7EzVRAAAAAbYwoVUAAAAA92b9VQAAAAKutN1VAAAAAanWSVUAAAAA92b9VQAAAACk97VVAAAAAzwRIVkA=",
          "dtype": "f8"
         }
        },
        {
         "hovertemplate": "Index: %{x}<br>Accuracy: %{y:.2f}<extra></extra>",
         "marker": {
          "size": 4
         },
         "mode": "lines+markers",
         "name": "Metric 2",
         "type": "scatter",
         "x": {
          "bdata": "KCkqKywtLi8wMTIzNDU2Nzg5Ojs8PT4/QEFCQ0RFRkdISUpLTE1OTw==",
          "dtype": "i1"
         },
         "y": {
          "bdata": "////DFhEJUAAAABZLrglQP3///mYrC9A/f//3P50I0D9///c/nQjQP3//9z+dCNA/f//3P50I0D////AgdAkQP7//9HgVilA/f//3P50I0D9///c/nQjQP3//9z+dCNA/f//3P50I0D9///c/nQjQAAAAB63yilA/v//KNXoM0AAAADvDYRAQP///z+bwkFA/v//ATomO0D+//+1Y7I6QP7//yclYDtA////FPm9QED///9inE1HQAAAAAI6JktAAAAA0nNMTUAAAADmvIFMQAAAAMo/3U1AAAAA1K1yT0AAAAA2LS1QQAAAANJzzFBAAAAAggOhUEAAAACo7tpQQAAAAGVp6VBAAAAAaiC0UUAAAADXKpdRQAAAAJAL7lFAAAAASexEUkAAAABv135SQAAAAJXCuFJAAAAARVKNUkA=",
          "dtype": "f8"
         }
        },
        {
         "hovertemplate": "Index: %{x}<br>Accuracy: %{y:.2f}<extra></extra>",
         "marker": {
          "size": 4
         },
         "mode": "lines+markers",
         "name": "Metric 3",
         "type": "scatter",
         "x": {
          "bdata": "UFFSU1RVVldYWVpbXF1eX2BhYmNkZWZnaGlqa2xtbm9wcXJzdHV2dw==",
          "dtype": "i1"
         },
         "y": {
          "bdata": "AAAA9TzPJ0D+//9KA3sjQP7//48PPihA/P//HyClJUD+//+dTTYlQP7//51NNiVA/v//nU02JUD7//9nqFgkQP///9ZuBDBA/v//nU02JUD+//+dTTYlQP7//51NNiVA/v//nU02JUD+//+dTTYlQAAAAPU8zydA/v//nU02NUD////s9GVCQAAAAEsDe0NAAAAAUM/zPkD+//+/wN49QAAAABjYO0BAAAAAQEBKQkAAAAAAAABJQAAAANKhYk9AAAAAvBuBUEAAAAARub9RQAAAAO30ZVJAAAAAHHzwUkAAAABCkqRTQAAAAAEpbVNAAAAAaKhYVEAAAAAVXXRUQAAAAPoJ8VRAAAAAO3MoVUAAAAAyAlJVQAAAAHNriVVAAAAAavqyVUAAAAC78hNWQAAAAHNriVVAAAAABc0hVkA=",
          "dtype": "f8"
         }
        },
        {
         "hovertemplate": "Index: %{x}<br>Accuracy: %{y:.2f}<extra></extra>",
         "marker": {
          "size": 4
         },
         "mode": "lines+markers",
         "name": "Metric 4",
         "type": "scatter",
         "x": {
          "bdata": "eAB5AHoAewB8AH0AfgB/AIAAgQCCAIMAhACFAIYAhwCIAIkAigCLAIwAjQCOAI8AkACRAJIAkwCUAJUAlgCXAJgAmQCaAJsAnACdAJ4AnwA=",
          "dtype": "i2"
         },
         "y": {
          "bdata": "AAAAkeM4JkD///83juMkQP7//43jOC5A////N47jJED///83juMkQP///zeO4yRA////N47jJED+//+F4zgiQP7//43jOC5A////N47jJED///83juMkQP///zeO4yRA////N47jJED///83juMkQP3//5vjOCpA/v//Po7jMkD+//9TVVU/QAAAAC2O40BA/v//dRzHOUAAAAA8juM6QAAAAMKqqjpAAAAAEMdxQUD///9WVVVHQAAAAIzjOEtAAAAAtKqqTkAAAAC0qqpOQAAAACDHcVBAAAAAq6oqUUAAAACsqqpSQAAAAHocR1NAAAAATFVVU0AAAACH47hTQAAAAIfjuFNAAAAAahxHVEAAAAB7HMdUQAAAAOA4DlVAAAAA2DiOVUAAAABWVdVVQAAAAOk4DlZAAAAA6TgOVkA=",
          "dtype": "f8"
         }
        },
        {
         "hovertemplate": "Index: %{x}<br>Accuracy: %{y:.2f}<extra></extra>",
         "marker": {
          "size": 4
         },
         "mode": "lines+markers",
         "name": "Metric 5",
         "type": "scatter",
         "x": {
          "bdata": "oAChAKIAowCkAKUApgCnAKgAqQCqAKsArACtAK4ArwCwALEAsgCzALQAtQC2ALcAuAC5ALoAuwC8AL0AvgC/AMAAwQDCAMMAxADFAMYAxwA=",
          "dtype": "i2"
         },
         "y": {
          "bdata": "/v//fISfKEAAAAA2cRgjQAAAAHByISpA+///JzueJ0D8//+Jlh0nQPz//4mWHSdA/P//iZYdJ0D///99qJslQP7//4XnVDBA/P//iZYdJ0D8//+Jlh0nQPz//4mWHSdA/P//iZYdJ0D8//+Jlh0nQAAAALippCxA/v//NE0cNkAAAAACSPhCQP///w5adkFAAAAAjkXmPUAAAAB8YKM7QP///7kQdUBA////fsyXQkD///8nO55HQAAAAMqO505AAAAABtjoT0AAAAAm8yVRQAAAAEEcRlFAAAAAyo5nUkAAAADnHthSQAAAALP1t1JAAAAAH9hoU0AAAAAIP7lTQAAAAIu6GVRAAAAADjZ6VEAAAACLuhlUQAAAAClfmlRAAAAA95zKVEAAAAD3nMpUQAAAAPssO1VAAAAAstG7VUA=",
          "dtype": "f8"
         }
        }
       ],
       "layout": {
        "height": 600,
        "showlegend": true,
        "template": {
         "data": {
          "bar": [
           {
            "error_x": {
             "color": "#2a3f5f"
            },
            "error_y": {
             "color": "#2a3f5f"
            },
            "marker": {
             "line": {
              "color": "#E5ECF6",
              "width": 0.5
             },
             "pattern": {
              "fillmode": "overlay",
              "size": 10,
              "solidity": 0.2
             }
            },
            "type": "bar"
           }
          ],
          "barpolar": [
           {
            "marker": {
             "line": {
              "color": "#E5ECF6",
              "width": 0.5
             },
             "pattern": {
              "fillmode": "overlay",
              "size": 10,
              "solidity": 0.2
             }
            },
            "type": "barpolar"
           }
          ],
          "carpet": [
           {
            "aaxis": {
             "endlinecolor": "#2a3f5f",
             "gridcolor": "white",
             "linecolor": "white",
             "minorgridcolor": "white",
             "startlinecolor": "#2a3f5f"
            },
            "baxis": {
             "endlinecolor": "#2a3f5f",
             "gridcolor": "white",
             "linecolor": "white",
             "minorgridcolor": "white",
             "startlinecolor": "#2a3f5f"
            },
            "type": "carpet"
           }
          ],
          "choropleth": [
           {
            "colorbar": {
             "outlinewidth": 0,
             "ticks": ""
            },
            "type": "choropleth"
           }
          ],
          "contour": [
           {
            "colorbar": {
             "outlinewidth": 0,
             "ticks": ""
            },
            "colorscale": [
             [
              0,
              "#0d0887"
             ],
             [
              0.1111111111111111,
              "#46039f"
             ],
             [
              0.2222222222222222,
              "#7201a8"
             ],
             [
              0.3333333333333333,
              "#9c179e"
             ],
             [
              0.4444444444444444,
              "#bd3786"
             ],
             [
              0.5555555555555556,
              "#d8576b"
             ],
             [
              0.6666666666666666,
              "#ed7953"
             ],
             [
              0.7777777777777778,
              "#fb9f3a"
             ],
             [
              0.8888888888888888,
              "#fdca26"
             ],
             [
              1,
              "#f0f921"
             ]
            ],
            "type": "contour"
           }
          ],
          "contourcarpet": [
           {
            "colorbar": {
             "outlinewidth": 0,
             "ticks": ""
            },
            "type": "contourcarpet"
           }
          ],
          "heatmap": [
           {
            "colorbar": {
             "outlinewidth": 0,
             "ticks": ""
            },
            "colorscale": [
             [
              0,
              "#0d0887"
             ],
             [
              0.1111111111111111,
              "#46039f"
             ],
             [
              0.2222222222222222,
              "#7201a8"
             ],
             [
              0.3333333333333333,
              "#9c179e"
             ],
             [
              0.4444444444444444,
              "#bd3786"
             ],
             [
              0.5555555555555556,
              "#d8576b"
             ],
             [
              0.6666666666666666,
              "#ed7953"
             ],
             [
              0.7777777777777778,
              "#fb9f3a"
             ],
             [
              0.8888888888888888,
              "#fdca26"
             ],
             [
              1,
              "#f0f921"
             ]
            ],
            "type": "heatmap"
           }
          ],
          "histogram": [
           {
            "marker": {
             "pattern": {
              "fillmode": "overlay",
              "size": 10,
              "solidity": 0.2
             }
            },
            "type": "histogram"
           }
          ],
          "histogram2d": [
           {
            "colorbar": {
             "outlinewidth": 0,
             "ticks": ""
            },
            "colorscale": [
             [
              0,
              "#0d0887"
             ],
             [
              0.1111111111111111,
              "#46039f"
             ],
             [
              0.2222222222222222,
              "#7201a8"
             ],
             [
              0.3333333333333333,
              "#9c179e"
             ],
             [
              0.4444444444444444,
              "#bd3786"
             ],
             [
              0.5555555555555556,
              "#d8576b"
             ],
             [
              0.6666666666666666,
              "#ed7953"
             ],
             [
              0.7777777777777778,
              "#fb9f3a"
             ],
             [
              0.8888888888888888,
              "#fdca26"
             ],
             [
              1,
              "#f0f921"
             ]
            ],
            "type": "histogram2d"
           }
          ],
          "histogram2dcontour": [
           {
            "colorbar": {
             "outlinewidth": 0,
             "ticks": ""
            },
            "colorscale": [
             [
              0,
              "#0d0887"
             ],
             [
              0.1111111111111111,
              "#46039f"
             ],
             [
              0.2222222222222222,
              "#7201a8"
             ],
             [
              0.3333333333333333,
              "#9c179e"
             ],
             [
              0.4444444444444444,
              "#bd3786"
             ],
             [
              0.5555555555555556,
              "#d8576b"
             ],
             [
              0.6666666666666666,
              "#ed7953"
             ],
             [
              0.7777777777777778,
              "#fb9f3a"
             ],
             [
              0.8888888888888888,
              "#fdca26"
             ],
             [
              1,
              "#f0f921"
             ]
            ],
            "type": "histogram2dcontour"
           }
          ],
          "mesh3d": [
           {
            "colorbar": {
             "outlinewidth": 0,
             "ticks": ""
            },
            "type": "mesh3d"
           }
          ],
          "parcoords": [
           {
            "line": {
             "colorbar": {
              "outlinewidth": 0,
              "ticks": ""
             }
            },
            "type": "parcoords"
           }
          ],
          "pie": [
           {
            "automargin": true,
            "type": "pie"
           }
          ],
          "scatter": [
           {
            "fillpattern": {
             "fillmode": "overlay",
             "size": 10,
             "solidity": 0.2
            },
            "type": "scatter"
           }
          ],
          "scatter3d": [
           {
            "line": {
             "colorbar": {
              "outlinewidth": 0,
              "ticks": ""
             }
            },
            "marker": {
             "colorbar": {
              "outlinewidth": 0,
              "ticks": ""
             }
            },
            "type": "scatter3d"
           }
          ],
          "scattercarpet": [
           {
            "marker": {
             "colorbar": {
              "outlinewidth": 0,
              "ticks": ""
             }
            },
            "type": "scattercarpet"
           }
          ],
          "scattergeo": [
           {
            "marker": {
             "colorbar": {
              "outlinewidth": 0,
              "ticks": ""
             }
            },
            "type": "scattergeo"
           }
          ],
          "scattergl": [
           {
            "marker": {
             "colorbar": {
              "outlinewidth": 0,
              "ticks": ""
             }
            },
            "type": "scattergl"
           }
          ],
          "scattermap": [
           {
            "marker": {
             "colorbar": {
              "outlinewidth": 0,
              "ticks": ""
             }
            },
            "type": "scattermap"
           }
          ],
          "scattermapbox": [
           {
            "marker": {
             "colorbar": {
              "outlinewidth": 0,
              "ticks": ""
             }
            },
            "type": "scattermapbox"
           }
          ],
          "scatterpolar": [
           {
            "marker": {
             "colorbar": {
              "outlinewidth": 0,
              "ticks": ""
             }
            },
            "type": "scatterpolar"
           }
          ],
          "scatterpolargl": [
           {
            "marker": {
             "colorbar": {
              "outlinewidth": 0,
              "ticks": ""
             }
            },
            "type": "scatterpolargl"
           }
          ],
          "scatterternary": [
           {
            "marker": {
             "colorbar": {
              "outlinewidth": 0,
              "ticks": ""
             }
            },
            "type": "scatterternary"
           }
          ],
          "surface": [
           {
            "colorbar": {
             "outlinewidth": 0,
             "ticks": ""
            },
            "colorscale": [
             [
              0,
              "#0d0887"
             ],
             [
              0.1111111111111111,
              "#46039f"
             ],
             [
              0.2222222222222222,
              "#7201a8"
             ],
             [
              0.3333333333333333,
              "#9c179e"
             ],
             [
              0.4444444444444444,
              "#bd3786"
             ],
             [
              0.5555555555555556,
              "#d8576b"
             ],
             [
              0.6666666666666666,
              "#ed7953"
             ],
             [
              0.7777777777777778,
              "#fb9f3a"
             ],
             [
              0.8888888888888888,
              "#fdca26"
             ],
             [
              1,
              "#f0f921"
             ]
            ],
            "type": "surface"
           }
          ],
          "table": [
           {
            "cells": {
             "fill": {
              "color": "#EBF0F8"
             },
             "line": {
              "color": "white"
             }
            },
            "header": {
             "fill": {
              "color": "#C8D4E3"
             },
             "line": {
              "color": "white"
             }
            },
            "type": "table"
           }
          ]
         },
         "layout": {
          "annotationdefaults": {
           "arrowcolor": "#2a3f5f",
           "arrowhead": 0,
           "arrowwidth": 1
          },
          "autotypenumbers": "strict",
          "coloraxis": {
           "colorbar": {
            "outlinewidth": 0,
            "ticks": ""
           }
          },
          "colorscale": {
           "diverging": [
            [
             0,
             "#8e0152"
            ],
            [
             0.1,
             "#c51b7d"
            ],
            [
             0.2,
             "#de77ae"
            ],
            [
             0.3,
             "#f1b6da"
            ],
            [
             0.4,
             "#fde0ef"
            ],
            [
             0.5,
             "#f7f7f7"
            ],
            [
             0.6,
             "#e6f5d0"
            ],
            [
             0.7,
             "#b8e186"
            ],
            [
             0.8,
             "#7fbc41"
            ],
            [
             0.9,
             "#4d9221"
            ],
            [
             1,
             "#276419"
            ]
           ],
           "sequential": [
            [
             0,
             "#0d0887"
            ],
            [
             0.1111111111111111,
             "#46039f"
            ],
            [
             0.2222222222222222,
             "#7201a8"
            ],
            [
             0.3333333333333333,
             "#9c179e"
            ],
            [
             0.4444444444444444,
             "#bd3786"
            ],
            [
             0.5555555555555556,
             "#d8576b"
            ],
            [
             0.6666666666666666,
             "#ed7953"
            ],
            [
             0.7777777777777778,
             "#fb9f3a"
            ],
            [
             0.8888888888888888,
             "#fdca26"
            ],
            [
             1,
             "#f0f921"
            ]
           ],
           "sequentialminus": [
            [
             0,
             "#0d0887"
            ],
            [
             0.1111111111111111,
             "#46039f"
            ],
            [
             0.2222222222222222,
             "#7201a8"
            ],
            [
             0.3333333333333333,
             "#9c179e"
            ],
            [
             0.4444444444444444,
             "#bd3786"
            ],
            [
             0.5555555555555556,
             "#d8576b"
            ],
            [
             0.6666666666666666,
             "#ed7953"
            ],
            [
             0.7777777777777778,
             "#fb9f3a"
            ],
            [
             0.8888888888888888,
             "#fdca26"
            ],
            [
             1,
             "#f0f921"
            ]
           ]
          },
          "colorway": [
           "#636efa",
           "#EF553B",
           "#00cc96",
           "#ab63fa",
           "#FFA15A",
           "#19d3f3",
           "#FF6692",
           "#B6E880",
           "#FF97FF",
           "#FECB52"
          ],
          "font": {
           "color": "#2a3f5f"
          },
          "geo": {
           "bgcolor": "white",
           "lakecolor": "white",
           "landcolor": "#E5ECF6",
           "showlakes": true,
           "showland": true,
           "subunitcolor": "white"
          },
          "hoverlabel": {
           "align": "left"
          },
          "hovermode": "closest",
          "mapbox": {
           "style": "light"
          },
          "paper_bgcolor": "white",
          "plot_bgcolor": "#E5ECF6",
          "polar": {
           "angularaxis": {
            "gridcolor": "white",
            "linecolor": "white",
            "ticks": ""
           },
           "bgcolor": "#E5ECF6",
           "radialaxis": {
            "gridcolor": "white",
            "linecolor": "white",
            "ticks": ""
           }
          },
          "scene": {
           "xaxis": {
            "backgroundcolor": "#E5ECF6",
            "gridcolor": "white",
            "gridwidth": 2,
            "linecolor": "white",
            "showbackground": true,
            "ticks": "",
            "zerolinecolor": "white"
           },
           "yaxis": {
            "backgroundcolor": "#E5ECF6",
            "gridcolor": "white",
            "gridwidth": 2,
            "linecolor": "white",
            "showbackground": true,
            "ticks": "",
            "zerolinecolor": "white"
           },
           "zaxis": {
            "backgroundcolor": "#E5ECF6",
            "gridcolor": "white",
            "gridwidth": 2,
            "linecolor": "white",
            "showbackground": true,
            "ticks": "",
            "zerolinecolor": "white"
           }
          },
          "shapedefaults": {
           "line": {
            "color": "#2a3f5f"
           }
          },
          "ternary": {
           "aaxis": {
            "gridcolor": "white",
            "linecolor": "white",
            "ticks": ""
           },
           "baxis": {
            "gridcolor": "white",
            "linecolor": "white",
            "ticks": ""
           },
           "bgcolor": "#E5ECF6",
           "caxis": {
            "gridcolor": "white",
            "linecolor": "white",
            "ticks": ""
           }
          },
          "title": {
           "x": 0.05
          },
          "xaxis": {
           "automargin": true,
           "gridcolor": "white",
           "linecolor": "white",
           "ticks": "",
           "title": {
            "standoff": 15
           },
           "zerolinecolor": "white",
           "zerolinewidth": 2
          },
          "yaxis": {
           "automargin": true,
           "gridcolor": "white",
           "linecolor": "white",
           "ticks": "",
           "title": {
            "standoff": 15
           },
           "zerolinecolor": "white",
           "zerolinewidth": 2
          }
         }
        },
        "title": {
         "text": "Accuracy Comparison"
        },
        "width": 1000,
        "xaxis": {
         "tickvals": [
          0,
          199
         ],
         "title": {
          "text": "Index"
         }
        },
        "yaxis": {
         "title": {
          "text": "Accuracy"
         }
        }
       }
      }
     },
     "metadata": {},
     "output_type": "display_data"
    },
    {
     "data": {
      "application/vnd.plotly.v1+json": {
       "config": {
        "plotlyServerURL": "https://plot.ly"
       },
       "data": [
        {
         "hovertemplate": "Index: %{x}<br>Delay: %{y:.2f}<extra></extra>",
         "marker": {
          "size": 4
         },
         "mode": "lines+markers",
         "name": "Metric 1",
         "type": "scatter",
         "x": {
          "bdata": "AAECAwQFBgcICQoLDA0ODxAREhMUFRYXGBkaGxwdHh8gISIjJCUmJw==",
          "dtype": "i1"
         },
         "y": {
          "bdata": "AAAA8G+jOEAAAACopKEtQAAAAAiyNzRAAAAA4LbYK0AAAADAWOctQAAAAJAE8ipAAAAAGNcKKkAAAABIjQIsQAAAAIhGZCxAAAAA4JSXKkAAAABoaN0qQAAAADhigCpAAQAAGA5BKUAAAAC4XW8qQAAAALhvKClAAAAAGMSaLUAAAACgkPIoQAAAAECZyShA////19m+KkAAAAC42l4pQAAAABiqSSpAAAAAUIL5KUAAAACAVNUrQAAAAHhf7SlA/////0iBLUAAAAC4tdkpQAAAAJjzySlAAAAAMJ8+K0AAAABgucEpQAAAAGCKLCpAAAAA+HNcLEAAAADwu4QqQAAAAPCidSlAAQAA0L1JKkAAAADgTzQrQP///z9lRCpAAAAAKDCVKkAAAADQ5O0qQAAAAKBrQCpAAAAAGB25KUA=",
          "dtype": "f8"
         }
        },
        {
         "hovertemplate": "Index: %{x}<br>Delay: %{y:.2f}<extra></extra>",
         "marker": {
          "size": 4
         },
         "mode": "lines+markers",
         "name": "Metric 2",
         "type": "scatter",
         "x": {
          "bdata": "KCkqKywtLi8wMTIzNDU2Nzg5Ojs8PT4/QEFCQ0RFRkdISUpLTE1OTw==",
          "dtype": "i1"
         },
         "y": {
          "bdata": "AAAAFG6NN0AAAACYZbEtQAAAANiF2TNAAAAAGP0xK0AAAAA47ustQAAAABg80ypA/////1MIKkAAAAD4YJErQP///+csfytAAAAAKEwRKkAAAACAgY0qQAEAABiznipAAAAA8PYSKUAAAABwJaQrQAAAALBqNilAAAAAkB+nLUD///+/R14pQAAAAKgqiyhAAAAA0GZDK0AAAABYHecpQAAAAEhT1CtAAAAAOBKlKUAAAAB4Lq4rQAAAALBB0SlA////X+WwLUD///+f4dQpQAAAABCObClAAAAAEJrGKUAAAAA4JawpQAAAAADmKSpAAAAAMNnPK0AAAADwnlQqQAAAAGjzVypAAAAAKIT5KUAAAABo1eIqQAAAAICldStAAAAAmLxUKkAAAAA4TU4qQAAAAGAnNipAAQAA6D/fKUA=",
          "dtype": "f8"
         }
        },
        {
         "hovertemplate": "Index: %{x}<br>Delay: %{y:.2f}<extra></extra>",
         "marker": {
          "size": 4
         },
         "mode": "lines+markers",
         "name": "Metric 3",
         "type": "scatter",
         "x": {
          "bdata": "UFFSU1RVVldYWVpbXF1eX2BhYmNkZWZnaGlqa2xtbm9wcXJzdHV2dw==",
          "dtype": "i1"
         },
         "y": {
          "bdata": "AAAAyJRKNEAAAADAMJItQAAAAJR83zNAAQAA8FgdLEAAAABQaustQAAAALAjuypAAAAA+OPhKUAAAADQUcErQP///2dEfStAAAAAGOKnKkAAAABIC/MqQAAAACBZeSpAAAAAiDalKUABAABot30pQAEAAGg3hSlAAAAAKAsALkAAAADgWFQpQAAAAFgn9ShAAAAA2KXgKkAAAABQXMcpQAAAAGgVsypAAAAAUIL5KUAAAACACvIrQAAAAGh75ClAAAAAIPdyLUAAAABISkUqQAAAANi4bSlAAQAAGPOjKUAAAACYgbMpQAAAALhUJipAAAAAENgwLEAAAACwc90qQAAAALBOpSlAAAAA4OHcKUAAAAAQrf0qQAAAADBkoypAAAAAIBjfKUAAAABIH5UqQAAAAECf7SlAAAAAeFPsKUA=",
          "dtype": "f8"
         }
        },
        {
         "hovertemplate": "Index: %{x}<br>Delay: %{y:.2f}<extra></extra>",
         "marker": {
          "size": 4
         },
         "mode": "lines+markers",
         "name": "Metric 4",
         "type": "scatter",
         "x": {
          "bdata": "eAB5AHoAewB8AH0AfgB/AIAAgQCCAIMAhACFAIYAhwCIAIkAigCLAIwAjQCOAI8AkACRAJIAkwCUAJUAlgCXAJgAmQCaAJsAnACdAJ4AnwA=",
          "dtype": "i2"
         },
         "y": {
          "bdata": "AAAAeH6hMUAAAAAgfrotQAAAAIiuRTRA////T4ghLUABAAAYM5ouQAAAAIijpipA////ZySkKUD////P79QrQAAAADhFWSpAAAAAoGISKkAAAADQEgkrQP///38mEStAAAAAcJexKUAAAABgECQrQAAAACBbWClAAAAAAKhKLUAAAACgXf8oQAAAAHCwNilAAAAA+IbUKkAAAADopYYpQAAAAGCY/ClAAAAAoCiFKkAAAAAoeIQrQAAAAGiIxClAAAAA+IwyLUAAAAA4ggAqQP///9cpESlAAAAAkBAGKUAAAABQdDAqQAEAAMBVTCpA////v3fLK0D///+/x5EqQP///7+ctilAAAAAIANRKkAAAABgkpUrQAAAAIiCfypAAAAAgJ3lKUAAAADo4rQqQAAAALDzlipAAAAA+N0jKkA=",
          "dtype": "f8"
         }
        },
        {
         "hovertemplate": "Index: %{x}<br>Delay: %{y:.2f}<extra></extra>",
         "marker": {
          "size": 4
         },
         "mode": "lines+markers",
         "name": "Metric 5",
         "type": "scatter",
         "x": {
          "bdata": "oAChAKIAowCkAKUApgCnAKgAqQCqAKsArACtAK4ArwCwALEAsgCzALQAtQC2ALcAuAC5ALoAuwC8AL0AvgC/AMAAwQDCAMMAxADFAMYAxwA=",
          "dtype": "i2"
         },
         "y": {
          "bdata": "AAAA2Js5LUAAAAAo32IuQAAAACzQLTRAAAAAAEWvLEAAAAAQUF0uQAAAAPBO/CpAAAAASI6sKUAAAAAALQYsQAAAAMAj1ipAAAAAUJOfKkAAAACA6NsqQAAAAOAvoCpAAAAAmGVOKUAAAABwl1QqQAAAAEBcoilAAQAAQIjILUAAAACoF/IoQAAAACDelyhAAAAASCWPKkAAAACoK+ApQAAAAHjkuCpA////fzb3KUAAAAAgWdQrQAEAAGATpSlAAAAASKJ3LUAAAAAgAWAqQAAAAFD+CClAAAAAsDYCK0AAAADgNlwqQP////8ovSpAAAAAwGMDLEAAAACQ0zgqQAAAAJgNuilAAAAAEOi0KUD///9XXFMrQAAAAFikDypAAAAAIF7JKUAAAAD4zJkqQAAAANAcKipAAAAAqNwLKkA=",
          "dtype": "f8"
         }
        }
       ],
       "layout": {
        "height": 600,
        "showlegend": true,
        "template": {
         "data": {
          "bar": [
           {
            "error_x": {
             "color": "#2a3f5f"
            },
            "error_y": {
             "color": "#2a3f5f"
            },
            "marker": {
             "line": {
              "color": "#E5ECF6",
              "width": 0.5
             },
             "pattern": {
              "fillmode": "overlay",
              "size": 10,
              "solidity": 0.2
             }
            },
            "type": "bar"
           }
          ],
          "barpolar": [
           {
            "marker": {
             "line": {
              "color": "#E5ECF6",
              "width": 0.5
             },
             "pattern": {
              "fillmode": "overlay",
              "size": 10,
              "solidity": 0.2
             }
            },
            "type": "barpolar"
           }
          ],
          "carpet": [
           {
            "aaxis": {
             "endlinecolor": "#2a3f5f",
             "gridcolor": "white",
             "linecolor": "white",
             "minorgridcolor": "white",
             "startlinecolor": "#2a3f5f"
            },
            "baxis": {
             "endlinecolor": "#2a3f5f",
             "gridcolor": "white",
             "linecolor": "white",
             "minorgridcolor": "white",
             "startlinecolor": "#2a3f5f"
            },
            "type": "carpet"
           }
          ],
          "choropleth": [
           {
            "colorbar": {
             "outlinewidth": 0,
             "ticks": ""
            },
            "type": "choropleth"
           }
          ],
          "contour": [
           {
            "colorbar": {
             "outlinewidth": 0,
             "ticks": ""
            },
            "colorscale": [
             [
              0,
              "#0d0887"
             ],
             [
              0.1111111111111111,
              "#46039f"
             ],
             [
              0.2222222222222222,
              "#7201a8"
             ],
             [
              0.3333333333333333,
              "#9c179e"
             ],
             [
              0.4444444444444444,
              "#bd3786"
             ],
             [
              0.5555555555555556,
              "#d8576b"
             ],
             [
              0.6666666666666666,
              "#ed7953"
             ],
             [
              0.7777777777777778,
              "#fb9f3a"
             ],
             [
              0.8888888888888888,
              "#fdca26"
             ],
             [
              1,
              "#f0f921"
             ]
            ],
            "type": "contour"
           }
          ],
          "contourcarpet": [
           {
            "colorbar": {
             "outlinewidth": 0,
             "ticks": ""
            },
            "type": "contourcarpet"
           }
          ],
          "heatmap": [
           {
            "colorbar": {
             "outlinewidth": 0,
             "ticks": ""
            },
            "colorscale": [
             [
              0,
              "#0d0887"
             ],
             [
              0.1111111111111111,
              "#46039f"
             ],
             [
              0.2222222222222222,
              "#7201a8"
             ],
             [
              0.3333333333333333,
              "#9c179e"
             ],
             [
              0.4444444444444444,
              "#bd3786"
             ],
             [
              0.5555555555555556,
              "#d8576b"
             ],
             [
              0.6666666666666666,
              "#ed7953"
             ],
             [
              0.7777777777777778,
              "#fb9f3a"
             ],
             [
              0.8888888888888888,
              "#fdca26"
             ],
             [
              1,
              "#f0f921"
             ]
            ],
            "type": "heatmap"
           }
          ],
          "histogram": [
           {
            "marker": {
             "pattern": {
              "fillmode": "overlay",
              "size": 10,
              "solidity": 0.2
             }
            },
            "type": "histogram"
           }
          ],
          "histogram2d": [
           {
            "colorbar": {
             "outlinewidth": 0,
             "ticks": ""
            },
            "colorscale": [
             [
              0,
              "#0d0887"
             ],
             [
              0.1111111111111111,
              "#46039f"
             ],
             [
              0.2222222222222222,
              "#7201a8"
             ],
             [
              0.3333333333333333,
              "#9c179e"
             ],
             [
              0.4444444444444444,
              "#bd3786"
             ],
             [
              0.5555555555555556,
              "#d8576b"
             ],
             [
              0.6666666666666666,
              "#ed7953"
             ],
             [
              0.7777777777777778,
              "#fb9f3a"
             ],
             [
              0.8888888888888888,
              "#fdca26"
             ],
             [
              1,
              "#f0f921"
             ]
            ],
            "type": "histogram2d"
           }
          ],
          "histogram2dcontour": [
           {
            "colorbar": {
             "outlinewidth": 0,
             "ticks": ""
            },
            "colorscale": [
             [
              0,
              "#0d0887"
             ],
             [
              0.1111111111111111,
              "#46039f"
             ],
             [
              0.2222222222222222,
              "#7201a8"
             ],
             [
              0.3333333333333333,
              "#9c179e"
             ],
             [
              0.4444444444444444,
              "#bd3786"
             ],
             [
              0.5555555555555556,
              "#d8576b"
             ],
             [
              0.6666666666666666,
              "#ed7953"
             ],
             [
              0.7777777777777778,
              "#fb9f3a"
             ],
             [
              0.8888888888888888,
              "#fdca26"
             ],
             [
              1,
              "#f0f921"
             ]
            ],
            "type": "histogram2dcontour"
           }
          ],
          "mesh3d": [
           {
            "colorbar": {
             "outlinewidth": 0,
             "ticks": ""
            },
            "type": "mesh3d"
           }
          ],
          "parcoords": [
           {
            "line": {
             "colorbar": {
              "outlinewidth": 0,
              "ticks": ""
             }
            },
            "type": "parcoords"
           }
          ],
          "pie": [
           {
            "automargin": true,
            "type": "pie"
           }
          ],
          "scatter": [
           {
            "fillpattern": {
             "fillmode": "overlay",
             "size": 10,
             "solidity": 0.2
            },
            "type": "scatter"
           }
          ],
          "scatter3d": [
           {
            "line": {
             "colorbar": {
              "outlinewidth": 0,
              "ticks": ""
             }
            },
            "marker": {
             "colorbar": {
              "outlinewidth": 0,
              "ticks": ""
             }
            },
            "type": "scatter3d"
           }
          ],
          "scattercarpet": [
           {
            "marker": {
             "colorbar": {
              "outlinewidth": 0,
              "ticks": ""
             }
            },
            "type": "scattercarpet"
           }
          ],
          "scattergeo": [
           {
            "marker": {
             "colorbar": {
              "outlinewidth": 0,
              "ticks": ""
             }
            },
            "type": "scattergeo"
           }
          ],
          "scattergl": [
           {
            "marker": {
             "colorbar": {
              "outlinewidth": 0,
              "ticks": ""
             }
            },
            "type": "scattergl"
           }
          ],
          "scattermap": [
           {
            "marker": {
             "colorbar": {
              "outlinewidth": 0,
              "ticks": ""
             }
            },
            "type": "scattermap"
           }
          ],
          "scattermapbox": [
           {
            "marker": {
             "colorbar": {
              "outlinewidth": 0,
              "ticks": ""
             }
            },
            "type": "scattermapbox"
           }
          ],
          "scatterpolar": [
           {
            "marker": {
             "colorbar": {
              "outlinewidth": 0,
              "ticks": ""
             }
            },
            "type": "scatterpolar"
           }
          ],
          "scatterpolargl": [
           {
            "marker": {
             "colorbar": {
              "outlinewidth": 0,
              "ticks": ""
             }
            },
            "type": "scatterpolargl"
           }
          ],
          "scatterternary": [
           {
            "marker": {
             "colorbar": {
              "outlinewidth": 0,
              "ticks": ""
             }
            },
            "type": "scatterternary"
           }
          ],
          "surface": [
           {
            "colorbar": {
             "outlinewidth": 0,
             "ticks": ""
            },
            "colorscale": [
             [
              0,
              "#0d0887"
             ],
             [
              0.1111111111111111,
              "#46039f"
             ],
             [
              0.2222222222222222,
              "#7201a8"
             ],
             [
              0.3333333333333333,
              "#9c179e"
             ],
             [
              0.4444444444444444,
              "#bd3786"
             ],
             [
              0.5555555555555556,
              "#d8576b"
             ],
             [
              0.6666666666666666,
              "#ed7953"
             ],
             [
              0.7777777777777778,
              "#fb9f3a"
             ],
             [
              0.8888888888888888,
              "#fdca26"
             ],
             [
              1,
              "#f0f921"
             ]
            ],
            "type": "surface"
           }
          ],
          "table": [
           {
            "cells": {
             "fill": {
              "color": "#EBF0F8"
             },
             "line": {
              "color": "white"
             }
            },
            "header": {
             "fill": {
              "color": "#C8D4E3"
             },
             "line": {
              "color": "white"
             }
            },
            "type": "table"
           }
          ]
         },
         "layout": {
          "annotationdefaults": {
           "arrowcolor": "#2a3f5f",
           "arrowhead": 0,
           "arrowwidth": 1
          },
          "autotypenumbers": "strict",
          "coloraxis": {
           "colorbar": {
            "outlinewidth": 0,
            "ticks": ""
           }
          },
          "colorscale": {
           "diverging": [
            [
             0,
             "#8e0152"
            ],
            [
             0.1,
             "#c51b7d"
            ],
            [
             0.2,
             "#de77ae"
            ],
            [
             0.3,
             "#f1b6da"
            ],
            [
             0.4,
             "#fde0ef"
            ],
            [
             0.5,
             "#f7f7f7"
            ],
            [
             0.6,
             "#e6f5d0"
            ],
            [
             0.7,
             "#b8e186"
            ],
            [
             0.8,
             "#7fbc41"
            ],
            [
             0.9,
             "#4d9221"
            ],
            [
             1,
             "#276419"
            ]
           ],
           "sequential": [
            [
             0,
             "#0d0887"
            ],
            [
             0.1111111111111111,
             "#46039f"
            ],
            [
             0.2222222222222222,
             "#7201a8"
            ],
            [
             0.3333333333333333,
             "#9c179e"
            ],
            [
             0.4444444444444444,
             "#bd3786"
            ],
            [
             0.5555555555555556,
             "#d8576b"
            ],
            [
             0.6666666666666666,
             "#ed7953"
            ],
            [
             0.7777777777777778,
             "#fb9f3a"
            ],
            [
             0.8888888888888888,
             "#fdca26"
            ],
            [
             1,
             "#f0f921"
            ]
           ],
           "sequentialminus": [
            [
             0,
             "#0d0887"
            ],
            [
             0.1111111111111111,
             "#46039f"
            ],
            [
             0.2222222222222222,
             "#7201a8"
            ],
            [
             0.3333333333333333,
             "#9c179e"
            ],
            [
             0.4444444444444444,
             "#bd3786"
            ],
            [
             0.5555555555555556,
             "#d8576b"
            ],
            [
             0.6666666666666666,
             "#ed7953"
            ],
            [
             0.7777777777777778,
             "#fb9f3a"
            ],
            [
             0.8888888888888888,
             "#fdca26"
            ],
            [
             1,
             "#f0f921"
            ]
           ]
          },
          "colorway": [
           "#636efa",
           "#EF553B",
           "#00cc96",
           "#ab63fa",
           "#FFA15A",
           "#19d3f3",
           "#FF6692",
           "#B6E880",
           "#FF97FF",
           "#FECB52"
          ],
          "font": {
           "color": "#2a3f5f"
          },
          "geo": {
           "bgcolor": "white",
           "lakecolor": "white",
           "landcolor": "#E5ECF6",
           "showlakes": true,
           "showland": true,
           "subunitcolor": "white"
          },
          "hoverlabel": {
           "align": "left"
          },
          "hovermode": "closest",
          "mapbox": {
           "style": "light"
          },
          "paper_bgcolor": "white",
          "plot_bgcolor": "#E5ECF6",
          "polar": {
           "angularaxis": {
            "gridcolor": "white",
            "linecolor": "white",
            "ticks": ""
           },
           "bgcolor": "#E5ECF6",
           "radialaxis": {
            "gridcolor": "white",
            "linecolor": "white",
            "ticks": ""
           }
          },
          "scene": {
           "xaxis": {
            "backgroundcolor": "#E5ECF6",
            "gridcolor": "white",
            "gridwidth": 2,
            "linecolor": "white",
            "showbackground": true,
            "ticks": "",
            "zerolinecolor": "white"
           },
           "yaxis": {
            "backgroundcolor": "#E5ECF6",
            "gridcolor": "white",
            "gridwidth": 2,
            "linecolor": "white",
            "showbackground": true,
            "ticks": "",
            "zerolinecolor": "white"
           },
           "zaxis": {
            "backgroundcolor": "#E5ECF6",
            "gridcolor": "white",
            "gridwidth": 2,
            "linecolor": "white",
            "showbackground": true,
            "ticks": "",
            "zerolinecolor": "white"
           }
          },
          "shapedefaults": {
           "line": {
            "color": "#2a3f5f"
           }
          },
          "ternary": {
           "aaxis": {
            "gridcolor": "white",
            "linecolor": "white",
            "ticks": ""
           },
           "baxis": {
            "gridcolor": "white",
            "linecolor": "white",
            "ticks": ""
           },
           "bgcolor": "#E5ECF6",
           "caxis": {
            "gridcolor": "white",
            "linecolor": "white",
            "ticks": ""
           }
          },
          "title": {
           "x": 0.05
          },
          "xaxis": {
           "automargin": true,
           "gridcolor": "white",
           "linecolor": "white",
           "ticks": "",
           "title": {
            "standoff": 15
           },
           "zerolinecolor": "white",
           "zerolinewidth": 2
          },
          "yaxis": {
           "automargin": true,
           "gridcolor": "white",
           "linecolor": "white",
           "ticks": "",
           "title": {
            "standoff": 15
           },
           "zerolinecolor": "white",
           "zerolinewidth": 2
          }
         }
        },
        "title": {
         "text": "Delay Comparison"
        },
        "width": 1000,
        "xaxis": {
         "tickvals": [
          0,
          199
         ],
         "title": {
          "text": "Index"
         }
        },
        "yaxis": {
         "title": {
          "text": "Delay (seconds)"
         }
        }
       }
      }
     },
     "metadata": {},
     "output_type": "display_data"
    }
   ],
   "source": [
    "import pandas as pd\n",
    "import plotly.graph_objects as go\n",
    "\n",
    "# List of file names\n",
    "file_names = [f'metric{i}.csv' for i in range(1, 6)]\n",
    "\n",
    "# Read and tag each file\n",
    "dataframes = []\n",
    "for i, file in enumerate(file_names, start=1):\n",
    "    df = pd.read_csv(file)\n",
    "    df['Source'] = f'Metric {i}'\n",
    "    dataframes.append(df)\n",
    "\n",
    "# Combine all data\n",
    "combined_df = pd.concat(dataframes, ignore_index=True)\n",
    "\n",
    "# **Cost Comparison** - Separate graph\n",
    "cost_fig = go.Figure()\n",
    "for label, group in combined_df.groupby('Source'):\n",
    "    cost_fig.add_trace(go.Scatter(\n",
    "        x=group.index,\n",
    "        y=group['cost'],\n",
    "        mode='lines+markers',\n",
    "        name=label,\n",
    "        marker=dict(size=4),  # Reduced marker size\n",
    "        hovertemplate='Index: %{x}<br>Cost: %{y}<extra></extra>'\n",
    "    ))\n",
    "\n",
    "cost_fig.update_xaxes(tickvals=[0, len(combined_df) - 1])\n",
    "cost_fig.update_layout(\n",
    "    title=\"Cost Comparison\",\n",
    "    xaxis_title=\"Index\",\n",
    "    yaxis_title=\"Cost\",\n",
    "    showlegend=True,\n",
    "    width=1000,   # Increased graph width\n",
    "    height=600    # Increased graph height\n",
    ")\n",
    "cost_fig.show()\n",
    "\n",
    "# **Accuracy Comparison** - Separate graph\n",
    "accuracy_fig = go.Figure()\n",
    "for label, group in combined_df.groupby('Source'):\n",
    "    scaled_accuracy = group['accuracy'] * 100  # Scale accuracy\n",
    "    accuracy_fig.add_trace(go.Scatter(\n",
    "        x=group.index,\n",
    "        y=scaled_accuracy,\n",
    "        mode='lines+markers',\n",
    "        name=label,\n",
    "        marker=dict(size=4),  # Reduced marker size\n",
    "        hovertemplate='Index: %{x}<br>Accuracy: %{y:.2f}<extra></extra>'\n",
    "    ))\n",
    "\n",
    "accuracy_fig.update_xaxes(tickvals=[0, len(combined_df) - 1])\n",
    "accuracy_fig.update_layout(\n",
    "    title=\"Accuracy Comparison\",\n",
    "    xaxis_title=\"Index\",\n",
    "    yaxis_title=\"Accuracy\",\n",
    "    showlegend=True,\n",
    "    width=1000,\n",
    "    height=600\n",
    ")\n",
    "accuracy_fig.show()\n",
    "\n",
    "# **Delay Comparison** - Separate graph\n",
    "delay_fig = go.Figure()\n",
    "for label, group in combined_df.groupby('Source'):\n",
    "    if 'delay' in group.columns:\n",
    "        delay_fig.add_trace(go.Scatter(\n",
    "            x=group.index,\n",
    "            y=group['delay'],\n",
    "            mode='lines+markers',\n",
    "            name=label,\n",
    "            marker=dict(size=4),  # Reduced marker size\n",
    "            hovertemplate='Index: %{x}<br>Delay: %{y:.2f}<extra></extra>'\n",
    "        ))\n",
    "\n",
    "delay_fig.update_xaxes(tickvals=[0, len(combined_df) - 1])\n",
    "delay_fig.update_layout(\n",
    "    title=\"Delay Comparison\",\n",
    "    xaxis_title=\"Index\",\n",
    "    yaxis_title=\"Delay (seconds)\",\n",
    "    showlegend=True,\n",
    "    width=1000,\n",
    "    height=600\n",
    ")\n",
    "delay_fig.show()\n"
   ]
  },
  {
   "cell_type": "code",
   "execution_count": null,
   "id": "6d9b844f",
   "metadata": {},
   "outputs": [
    {
     "name": "stdout",
     "output_type": "stream",
     "text": [
      "\n",
      "📋 Accuracy Comparison Table:\n",
      "    Metric1  Metric2  Metric3  Metric4  Metric5\n",
      "1      7.57     5.66     7.79     7.33     3.52\n",
      "2     11.35     9.50     9.74    11.11    11.31\n",
      "3     11.35     9.50     9.74    11.11    11.31\n",
      "4     11.35     9.50     9.74    11.11    11.31\n",
      "5     13.00     9.73    10.17    13.78    12.06\n",
      "6      9.93     9.73    10.61    10.44    11.56\n",
      "7     12.53    12.44    17.53    14.89    17.09\n",
      "8     20.57    20.81    21.43    18.22    22.11\n",
      "9     23.40    24.43    26.62    20.67    22.86\n",
      "10    33.10    36.88    36.58    32.22    32.16\n",
      "11    44.21    39.82    51.08    42.67    52.51\n",
      "12    50.35    48.19    61.26    46.67    62.31\n",
      "13    53.90    45.70    62.12    48.22    58.29\n",
      "14    60.28    60.41    65.80    59.56    61.56\n",
      "15    61.70    61.76    70.78    60.22    65.33\n",
      "16    66.19    61.76    75.11    66.67    67.84\n",
      "17    68.32    58.60    76.62    70.00    68.84\n",
      "18    68.09    63.80    76.19    70.22    66.83\n",
      "19    68.09    64.03    80.74    69.78    72.36\n",
      "20    73.29    66.52    79.22    76.44    74.12\n",
      "\n",
      "📋 Delay Comparison Table:\n",
      "    Metric1  Metric2  Metric3  Metric4  Metric5\n",
      "1     44.69    31.80    21.87    18.26    14.58\n",
      "2     17.67    17.82    17.83    17.86    17.81\n",
      "3     20.12    20.11    20.00    20.18    20.01\n",
      "4     29.20    29.38    29.28    29.26    29.38\n",
      "5     21.22    21.16    21.32    21.27    21.25\n",
      "6     15.44    15.50    15.48    15.40    15.52\n",
      "7     17.70    17.76    17.76    17.74    17.77\n",
      "8     15.79    15.81    15.76    15.81    15.71\n",
      "9     16.15    16.13    16.15    16.13    16.17\n",
      "10    18.82    18.86    18.84    18.88    18.88\n",
      "11    15.20    15.31    15.28    15.28    15.29\n",
      "12    14.78    14.99    14.97    14.97    14.99\n",
      "13    14.80    14.82    14.80    14.79    14.84\n",
      "14    13.19    13.20    13.20    13.20    13.20\n",
      "15    16.56    16.58    16.48    16.59    16.55\n",
      "16    18.89    18.90    18.87    18.87    18.90\n",
      "17    13.09    13.08    12.95    13.02    13.07\n",
      "18    13.43    13.67    13.42    13.65    13.45\n",
      "19    14.30    14.31    14.33    14.26    14.22\n",
      "20    16.03    16.03    16.02    16.01    16.04\n"
     ]
    }
   ],
   "source": [
    "import pandas as pd\n",
    "\n",
    "file_names = [f'metric{i}.csv' for i in range(1, 6)]\n",
    "\n",
    "accuracy_dict = {}\n",
    "delay_dict = {}\n",
    "\n",
    "for i, file in enumerate(file_names, start=1):\n",
    "    df = pd.read_csv(file)\n",
    "    accuracy_dict[f'Metric{i}'] = (df['accuracy'] * 100).round(2)  # multiply by 100 and round\n",
    "    delay_dict[f'Metric{i}'] = df['delay'].round(2)  # round delay\n",
    "\n",
    "# Create DataFrames for accuracy and delay\n",
    "accuracy_df = pd.DataFrame(accuracy_dict)\n",
    "delay_df = pd.DataFrame(delay_dict)\n",
    "\n",
    "# Start index from 1\n",
    "accuracy_df.index = accuracy_df.index + 1\n",
    "delay_df.index = delay_df.index + 1\n",
    "\n",
    "# Print Accuracy Table\n",
    "print(\"\\n📋 Accuracy Comparison Table:\")\n",
    "print(accuracy_df.to_string(index=True))\n",
    "\n",
    "# Print Delay Table\n",
    "print(\"\\n📋 Delay Comparison Table:\")\n",
    "print(delay_df.to_string(index=True))\n"
   ]
  }
 ],
 "metadata": {
  "kernelspec": {
   "display_name": "Python 3",
   "language": "python",
   "name": "python3"
  },
  "language_info": {
   "codemirror_mode": {
    "name": "ipython",
    "version": 3
   },
   "file_extension": ".py",
   "mimetype": "text/x-python",
   "name": "python",
   "nbconvert_exporter": "python",
   "pygments_lexer": "ipython3",
   "version": "3.12.9"
  }
 },
 "nbformat": 4,
 "nbformat_minor": 5
}
